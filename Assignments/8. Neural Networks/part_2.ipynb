{
 "cells": [
  {
   "cell_type": "markdown",
   "metadata": {
    "id": "ZgLg5dAXGrms"
   },
   "source": [
    "# Importing Libraries and Data"
   ]
  },
  {
   "cell_type": "markdown",
   "metadata": {
    "id": "Cg29LS0-LiUm"
   },
   "source": [
    "<font color='blue'>Cell 1\n",
    "Importing libraries"
   ]
  },
  {
   "cell_type": "code",
   "execution_count": 1,
   "metadata": {
    "_cell_guid": "0bb3fe27-8f88-5516-eefc-649a61ce62ae",
    "_uuid": "e9b103b270aa7e62add41bce5fc79b1ed7f2d3a0",
    "cellView": "code",
    "id": "KFjCNR-yPk0o"
   },
   "outputs": [],
   "source": [
    "import numpy as np\n",
    "import pandas as pd\n",
    "import seaborn as sns\n",
    "import matplotlib.pyplot as plt\n",
    "\n",
    "%matplotlib inline"
   ]
  },
  {
   "cell_type": "markdown",
   "metadata": {
    "id": "XbHmHq92MIM1"
   },
   "source": [
    "<font color='blue'>Cell 2\n",
    "Reading the data"
   ]
  },
  {
   "cell_type": "markdown",
   "metadata": {},
   "source": [
    "* dividend: Binary indicator of whether the stock pays dividend.\n",
    "* fcfps: Represents the free cash flow per share, how much cash a company generates relative to its share count.\n",
    "* earnings_growth: Percentage growth in earnings.\n",
    "* de: Debt to equity ratio. Indicates company's financial leverage and is a measure of the degree to which a company is financing its operations through debt\n",
    "* mcap: Market capitalization.\n",
    "* current_ratio: Liquidity ratio that measures a company's ability to pay short-term obligations with its current assets."
   ]
  },
  {
   "cell_type": "code",
   "execution_count": 2,
   "metadata": {
    "_cell_guid": "504c384b-1248-0bfa-92d8-0909a505438f",
    "_uuid": "8af2462230f4b596a462822bcfaec54ca5e0f362",
    "colab": {
     "base_uri": "https://localhost:8080/",
     "height": 204
    },
    "executionInfo": {
     "elapsed": 13,
     "status": "ok",
     "timestamp": 1621967870877,
     "user": {
      "displayName": "Leif Wilm",
      "photoUrl": "",
      "userId": "04857518338297398200"
     },
     "user_tz": 360
    },
    "id": "U9iOHF9mPk2E",
    "outputId": "acf66200-dbe9-4d59-bc67-29abcec34fd0"
   },
   "outputs": [
    {
     "data": {
      "text/html": [
       "<div>\n",
       "<style scoped>\n",
       "    .dataframe tbody tr th:only-of-type {\n",
       "        vertical-align: middle;\n",
       "    }\n",
       "\n",
       "    .dataframe tbody tr th {\n",
       "        vertical-align: top;\n",
       "    }\n",
       "\n",
       "    .dataframe thead th {\n",
       "        text-align: right;\n",
       "    }\n",
       "</style>\n",
       "<table border=\"1\" class=\"dataframe\">\n",
       "  <thead>\n",
       "    <tr style=\"text-align: right;\">\n",
       "      <th></th>\n",
       "      <th>dividend</th>\n",
       "      <th>fcfps</th>\n",
       "      <th>earnings_growth</th>\n",
       "      <th>de</th>\n",
       "      <th>mcap</th>\n",
       "      <th>current_ratio</th>\n",
       "    </tr>\n",
       "  </thead>\n",
       "  <tbody>\n",
       "    <tr>\n",
       "      <th>0</th>\n",
       "      <td>0</td>\n",
       "      <td>2.75</td>\n",
       "      <td>-19.25</td>\n",
       "      <td>1.11</td>\n",
       "      <td>545</td>\n",
       "      <td>0.924056</td>\n",
       "    </tr>\n",
       "    <tr>\n",
       "      <th>1</th>\n",
       "      <td>1</td>\n",
       "      <td>4.96</td>\n",
       "      <td>0.83</td>\n",
       "      <td>1.09</td>\n",
       "      <td>630</td>\n",
       "      <td>1.468572</td>\n",
       "    </tr>\n",
       "    <tr>\n",
       "      <th>2</th>\n",
       "      <td>1</td>\n",
       "      <td>2.78</td>\n",
       "      <td>1.09</td>\n",
       "      <td>0.19</td>\n",
       "      <td>562</td>\n",
       "      <td>1.975875</td>\n",
       "    </tr>\n",
       "    <tr>\n",
       "      <th>3</th>\n",
       "      <td>0</td>\n",
       "      <td>0.43</td>\n",
       "      <td>12.97</td>\n",
       "      <td>1.70</td>\n",
       "      <td>388</td>\n",
       "      <td>1.941998</td>\n",
       "    </tr>\n",
       "    <tr>\n",
       "      <th>4</th>\n",
       "      <td>1</td>\n",
       "      <td>2.94</td>\n",
       "      <td>2.44</td>\n",
       "      <td>1.83</td>\n",
       "      <td>684</td>\n",
       "      <td>2.487467</td>\n",
       "    </tr>\n",
       "  </tbody>\n",
       "</table>\n",
       "</div>"
      ],
      "text/plain": [
       "   dividend  fcfps  earnings_growth    de  mcap  current_ratio\n",
       "0         0   2.75           -19.25  1.11   545       0.924056\n",
       "1         1   4.96             0.83  1.09   630       1.468572\n",
       "2         1   2.78             1.09  0.19   562       1.975875\n",
       "3         0   0.43            12.97  1.70   388       1.941998\n",
       "4         1   2.94             2.44  1.83   684       2.487467"
      ]
     },
     "execution_count": 2,
     "metadata": {},
     "output_type": "execute_result"
    }
   ],
   "source": [
    "dividend_data = pd.read_csv(\"dividendinfo.csv\")\n",
    "dividend_data.head()"
   ]
  },
  {
   "cell_type": "code",
   "execution_count": 3,
   "metadata": {
    "colab": {
     "base_uri": "https://localhost:8080/"
    },
    "executionInfo": {
     "elapsed": 11,
     "status": "ok",
     "timestamp": 1621967870878,
     "user": {
      "displayName": "Leif Wilm",
      "photoUrl": "",
      "userId": "04857518338297398200"
     },
     "user_tz": 360
    },
    "id": "UGH2orhQsBFG",
    "outputId": "aa9066f7-9397-40c3-a482-f08cfd057dea"
   },
   "outputs": [
    {
     "name": "stdout",
     "output_type": "stream",
     "text": [
      "Dataset is complete. No missing values\n"
     ]
    }
   ],
   "source": [
    "#Check the dataset to make sure no data is missing and Check the class labels\n",
    "def verify_dataset(data):\n",
    "  #if any of the rows have missing value return datas missing\n",
    "  data_found = 1\n",
    "  for each_column in data.columns:\n",
    "    if data[each_column].isnull().any():\n",
    "            print(\"Data missing in Column \" + each_column)\n",
    "            #if any rows are not missing return Dataset is complete. No missing value\n",
    "            quit()\n",
    "    if data_found == 1:\n",
    "        print(\"Dataset is complete. No missing values\")\n",
    "    return\n",
    "\n",
    "verify_dataset(dividend_data)"
   ]
  },
  {
   "cell_type": "markdown",
   "metadata": {
    "id": "rh8rI4HdMRs-"
   },
   "source": [
    "<font color='blue'>Cell 4\n",
    "One hot encoding function"
   ]
  },
  {
   "cell_type": "code",
   "execution_count": 4,
   "metadata": {
    "_cell_guid": "ec0bfe6e-c47c-f12f-0a1f-6a461105cf70",
    "_uuid": "e624be71b3eb8591ff21ebdb807655ba03a2cabe",
    "id": "l6m47msaPk1Z"
   },
   "outputs": [],
   "source": [
    "#This function accepts an array of categorical variables and returns the one hot encoding\n",
    "def to_one_hot(Y):\n",
    "    n_col = np.amax(Y) + 1\n",
    "    binarized = np.zeros((len(Y), n_col))\n",
    "    for i in range(len(Y)):\n",
    "        binarized[i, Y[i]] = 1.\n",
    "    return binarized\n"
   ]
  },
  {
   "cell_type": "markdown",
   "metadata": {
    "id": "xH0sjBbMMXB0"
   },
   "source": [
    "<font color='blue'>Cell 5\n",
    "Data normalization function"
   ]
  },
  {
   "cell_type": "code",
   "execution_count": 5,
   "metadata": {
    "id": "v4uX-q1M7f_0"
   },
   "outputs": [],
   "source": [
    "#Normalize array\n",
    "def normalize(X, axis=-1, order=2):\n",
    "    l2 = np.atleast_1d(np.linalg.norm(X, order, axis))\n",
    "    l2[l2 == 0] = 1\n",
    "    return X / np.expand_dims(l2, axis)"
   ]
  },
  {
   "cell_type": "markdown",
   "metadata": {
    "id": "Qy8TCnJvMgqK"
   },
   "source": [
    "<font color='blue'>Cell 6\n",
    "Activation function definitions"
   ]
  },
  {
   "cell_type": "code",
   "execution_count": 6,
   "metadata": {
    "id": "nN0GwjNp7dKl"
   },
   "outputs": [],
   "source": [
    "#sigmoid and its derivative\n",
    "def sigmoid(x):\n",
    "    return 1/(1+np.exp(-x))\n",
    "\n",
    "def sigmoid_deriv(x):\n",
    "    return sigmoid(x)*(1 - sigmoid(x))\n",
    "\n",
    "def user_softmax(x):\n",
    "    exp_x = np.exp(x - np.max(x, axis=1, keepdims=True))\n",
    "    return exp_x / np.sum(exp_x, axis=1, keepdims=True)"
   ]
  },
  {
   "cell_type": "markdown",
   "metadata": {
    "id": "N2nVLxWiMtJn"
   },
   "source": [
    "<font color='blue'>Cell 7\n",
    "Selecting features from a list"
   ]
  },
  {
   "cell_type": "code",
   "execution_count": 7,
   "metadata": {
    "id": "fM-cC1-AHnJg"
   },
   "outputs": [],
   "source": [
    "'''Change the values below'''\n",
    "fcfps = True\n",
    "earnings_growth = True\n",
    "de = True\n",
    "mcap\t = True\n",
    "current_ratio = True\n",
    "'''Change the values above'''\n",
    "\n",
    "feature_list = [fcfps, earnings_growth, de, mcap, current_ratio]"
   ]
  },
  {
   "cell_type": "markdown",
   "metadata": {
    "id": "3TrGe_rSMyOV"
   },
   "source": [
    "<font color='blue'>Cell 8\n",
    "Selecting features and running the normalization function"
   ]
  },
  {
   "cell_type": "code",
   "execution_count": 8,
   "metadata": {
    "id": "vQDmfbbJFn05"
   },
   "outputs": [],
   "source": [
    "#Specifying the input data \"x\"\n",
    "columns = ['fcfps', 'earnings_growth', 'de', 'mcap', 'current_ratio']\n",
    "x = pd.DataFrame(dividend_data, columns=columns)\n",
    "x = x.to_numpy()\n",
    "x = x[:,feature_list]\n",
    "x = normalize(x)"
   ]
  },
  {
   "cell_type": "markdown",
   "metadata": {
    "id": "BIyog_ePNEnH"
   },
   "source": [
    "<font color='blue'>Cell 9\n",
    "Labelling output data and applying one hot encoding"
   ]
  },
  {
   "cell_type": "code",
   "execution_count": 9,
   "metadata": {
    "_cell_guid": "635a6d0f-b62b-a978-21c2-445f994e0458",
    "_uuid": "5f737ba55d570d5effe9fbb0f3a1267c4f44fd0a",
    "id": "6MbF7oZ6Pk3X"
   },
   "outputs": [],
   "source": [
    "#Replace the species with 1,2 or 3 as appropriate\n",
    "label_dict = dict()\n",
    "label_dict['0'] = '0'\n",
    "label_dict['1'] = '1'\n",
    "dividend_data['dividend'].replace(['0', '1'], [0, 1], inplace=True)\n",
    "\n",
    "#Get Output, flatten and encode to one-hot\n",
    "columns = ['dividend']\n",
    "\n",
    "y = pd.DataFrame(dividend_data, columns=columns)\n",
    "y = y.to_numpy()\n",
    "y = y.flatten()\n",
    "y = to_one_hot(y)\n"
   ]
  },
  {
   "cell_type": "markdown",
   "metadata": {
    "id": "Eg5gsjJtNMQ8"
   },
   "source": [
    "<font color='blue'>Cell 10\n",
    "Train test splitting"
   ]
  },
  {
   "cell_type": "code",
   "execution_count": 10,
   "metadata": {
    "id": "jt9sksyP0QuT"
   },
   "outputs": [],
   "source": [
    "x_y = pd.DataFrame(np.concatenate((x,y), axis=1))\n",
    "def split_dataset_test_train(data,train_size):\n",
    "  data = data.sample(frac=1).reset_index(drop=True)\n",
    "  training_data = data.iloc[:int(train_size * len(data))].reset_index(drop=True)\n",
    "  testing_data = data.iloc[int(train_size * len(data)):].reset_index(drop=True)\n",
    "  return [training_data, testing_data]\n",
    "\n",
    "train_test_data = split_dataset_test_train(x_y,0.7)\n",
    "X_train = train_test_data[0].iloc[:,0:5].to_numpy()\n",
    "X_test = train_test_data[1].iloc[:,0:5].to_numpy()\n",
    "\n",
    "y_train = train_test_data[0].iloc[:,-1:].to_numpy()\n",
    "y_test = train_test_data[1].iloc[:,-1:].to_numpy()"
   ]
  },
  {
   "cell_type": "markdown",
   "metadata": {
    "id": "AYmnSNMbNzR2"
   },
   "source": [
    "<font color='blue'>Cell 11\n",
    "Training function definition"
   ]
  },
  {
   "cell_type": "code",
   "execution_count": 11,
   "metadata": {
    "id": "qjy05dvNfMil"
   },
   "outputs": [],
   "source": [
    "def training(X_train, y_train, lr, batch_size, epochs, hidden_size):\n",
    "    np.random.seed(42)  # For reproducibility\n",
    "\n",
    "    w0 = 2 * np.random.random((X_train.shape[1], hidden_size)) - 1\n",
    "    w1 = 2 * np.random.random((hidden_size, 1)) - 1  # Output layer has 1 neuron for binary classification\n",
    "\n",
    "    bh = np.random.randn(hidden_size)\n",
    "    bo = np.random.randn(1)\n",
    "\n",
    "    num_samples = len(X_train)\n",
    "    num_batch = (num_samples + batch_size - 1) // batch_size  # Ceiling division\n",
    "\n",
    "    errors = []\n",
    "\n",
    "    for epoch in range(epochs):\n",
    "        for curr_batch in range(num_batch):\n",
    "            batch_start = curr_batch * batch_size\n",
    "            batch_end = min(batch_start + batch_size, num_samples)\n",
    "            input_batch = X_train[batch_start:batch_end]\n",
    "            labels_batch = y_train[batch_start:batch_end]\n",
    "\n",
    "            # Forward propagation\n",
    "            zh = np.dot(input_batch, w0) + bh\n",
    "            layer1 = sigmoid(zh)\n",
    "\n",
    "            zo = np.dot(layer1, w1) + bo\n",
    "            layer2 = sigmoid(zo)\n",
    "\n",
    "            # Backpropagation\n",
    "            layer2_error = layer2 - labels_batch.reshape(-1, 1)\n",
    "            layer2w_delta = np.dot(layer1.T, layer2_error)\n",
    "            layer2b_delta = layer2_error\n",
    "\n",
    "            dcost_dah = np.dot(layer2_error, w1.T)\n",
    "            dah_dzh = sigmoid_deriv(zh)\n",
    "            layer1_error = dah_dzh * dcost_dah\n",
    "            layer1w_delta = np.dot(input_batch.T, layer1_error)\n",
    "            layer1b_delta = layer1_error\n",
    "\n",
    "            # Update Weights and Biases\n",
    "            w0 -= lr * layer1w_delta\n",
    "            bh -= lr * layer1b_delta.sum(axis=0)\n",
    "\n",
    "            w1 -= lr * layer2w_delta\n",
    "            bo -= lr * layer2b_delta.sum(axis=0)\n",
    "\n",
    "        error = np.mean(np.abs(layer2_error))\n",
    "        errors.append(error)\n",
    "\n",
    "    return [w0, bh, w1, bo], error, errors"
   ]
  },
  {
   "cell_type": "markdown",
   "metadata": {
    "id": "dor5ostQN4o8"
   },
   "source": [
    "<font color='blue'>Cell 12\n",
    "Evaluation function definition"
   ]
  },
  {
   "cell_type": "code",
   "execution_count": 12,
   "metadata": {
    "id": "PzW_BpJzBUps"
   },
   "outputs": [],
   "source": [
    "def evaluation(params, tst_set):\n",
    "    w0, bh, w1, bo = params\n",
    "\n",
    "    # Forward propagation\n",
    "    zh = np.dot(tst_set, w0) + bh\n",
    "    layer1 = sigmoid(zh)\n",
    "\n",
    "    zo = np.dot(layer1, w1) + bo\n",
    "    layer2 = sigmoid(zo)\n",
    "\n",
    "    return layer2"
   ]
  },
  {
   "cell_type": "markdown",
   "metadata": {
    "id": "XVm-jRaCD2D6"
   },
   "source": [
    "# Exercise 3.2"
   ]
  },
  {
   "cell_type": "markdown",
   "metadata": {
    "id": "sCyoQfJAJOW1"
   },
   "source": [
    "<font color='blue'>Cell 13\n",
    "Selecting parameters and running the training function"
   ]
  },
  {
   "cell_type": "code",
   "execution_count": null,
   "metadata": {
    "id": "QlbJXVQzD9g4"
   },
   "outputs": [],
   "source": [
    "trained_params, error, errors = training(X_train, \n",
    "                                         y_train, \n",
    "                                         lr = 0.01, \n",
    "                                         batch_size = 16, \n",
    "                                         epochs = 100000, \n",
    "                                         hidden_size = 10)"
   ]
  },
  {
   "cell_type": "markdown",
   "metadata": {
    "id": "60qFxclFORdO"
   },
   "source": [
    "<font color='blue'>Cell 14\n",
    "Displaying the errors from training"
   ]
  },
  {
   "cell_type": "code",
   "execution_count": null,
   "metadata": {
    "colab": {
     "base_uri": "https://localhost:8080/",
     "height": 296
    },
    "executionInfo": {
     "elapsed": 196,
     "status": "ok",
     "timestamp": 1621967872324,
     "user": {
      "displayName": "Leif Wilm",
      "photoUrl": "",
      "userId": "04857518338297398200"
     },
     "user_tz": 360
    },
    "id": "VnSy9R4yfSXI",
    "outputId": "a72457be-871b-4a6d-936b-7f00f692e7a1"
   },
   "outputs": [],
   "source": [
    "# Plot the accuracy chart\n",
    "accuracy = (1 - error) * 100\n",
    "\n",
    "plt.plot(errors)\n",
    "plt.xlabel('Training', fontsize=20)  # Adjust font size as needed\n",
    "plt.ylabel('Error', fontsize=20)  # Adjust font size as needed\n",
    "\n",
    "# Set title and tick label sizes if needed\n",
    "plt.title('Training Error Over Epochs', fontsize=12)\n",
    "plt.xticks(fontsize=8)\n",
    "plt.yticks(fontsize=8)\n",
    "\n",
    "plt.show()\n",
    "\n",
    "print(\"Training Accuracy \" + str(round(accuracy, 2)) + \"%\")\n"
   ]
  },
  {
   "cell_type": "markdown",
   "metadata": {
    "id": "PIyXy3hcJqC8"
   },
   "source": [
    "<font color='blue'>Cell 15\n",
    "Running the evaluation function"
   ]
  },
  {
   "cell_type": "markdown",
   "metadata": {
    "id": "g0P0L-DwOiNo"
   },
   "source": [
    "<font color='blue'>Cell 16\n",
    "Displaying the confusion matrix"
   ]
  },
  {
   "cell_type": "code",
   "execution_count": 15,
   "metadata": {
    "colab": {
     "base_uri": "https://localhost:8080/",
     "height": 374
    },
    "executionInfo": {
     "elapsed": 160,
     "status": "ok",
     "timestamp": 1621967872480,
     "user": {
      "displayName": "Leif Wilm",
      "photoUrl": "",
      "userId": "04857518338297398200"
     },
     "user_tz": 360
    },
    "id": "lvhIzGEkOBDn",
    "outputId": "4df39c6e-92d9-416f-ffff-b3683b9d32ef"
   },
   "outputs": [
    {
     "data": {
      "image/png": "[encoded data removed]",
      "text/plain": [
       "<Figure size 500x500 with 2 Axes>"
      ]
     },
     "metadata": {},
     "output_type": "display_data"
    },
    {
     "name": "stdout",
     "output_type": "stream",
     "text": [
      "\n",
      "Classification Report:\n",
      "               precision    recall  f1-score   support\n",
      "\n",
      "         0.0       0.96      0.77      0.85        30\n",
      "         1.0       0.81      0.97      0.88        30\n",
      "\n",
      "    accuracy                           0.87        60\n",
      "   macro avg       0.88      0.87      0.87        60\n",
      "weighted avg       0.88      0.87      0.87        60\n",
      "\n"
     ]
    }
   ],
   "source": [
    "from sklearn.metrics import confusion_matrix, classification_report, ConfusionMatrixDisplay\n",
    "\n",
    "y_pred = (evaluation(trained_params,X_test) > 0.5).astype(int)\n",
    "\n",
    "cm = confusion_matrix(y_test, y_pred) \n",
    "cmp = ConfusionMatrixDisplay(confusion_matrix= cm)\n",
    "\n",
    "fig, ax = plt.subplots(figsize=(5,5))\n",
    "cmp.plot(ax=ax, cmap = plt.cm.Blues)\n",
    "\n",
    "\n",
    "plt.title(\"Confusion matrix\")\n",
    "plt.show()\n",
    "\n",
    "print(\"\\nClassification Report:\\n\", classification_report(y_test, y_pred))"
   ]
  },
  {
   "cell_type": "markdown",
   "metadata": {
    "id": "nSVRB6WUIxnh"
   },
   "source": [
    "# Exercise 3.1"
   ]
  },
  {
   "cell_type": "markdown",
   "metadata": {
    "id": "zY3-emXNI8Pk"
   },
   "source": [
    "<font color='blue'>Cell 17\n",
    "Function for testing flower dimensions"
   ]
  },
  {
   "cell_type": "code",
   "execution_count": 16,
   "metadata": {},
   "outputs": [
    {
     "data": {
      "text/html": [
       "<div>\n",
       "<style scoped>\n",
       "    .dataframe tbody tr th:only-of-type {\n",
       "        vertical-align: middle;\n",
       "    }\n",
       "\n",
       "    .dataframe tbody tr th {\n",
       "        vertical-align: top;\n",
       "    }\n",
       "\n",
       "    .dataframe thead th {\n",
       "        text-align: right;\n",
       "    }\n",
       "</style>\n",
       "<table border=\"1\" class=\"dataframe\">\n",
       "  <thead>\n",
       "    <tr style=\"text-align: right;\">\n",
       "      <th></th>\n",
       "      <th>dividend</th>\n",
       "      <th>fcfps</th>\n",
       "      <th>earnings_growth</th>\n",
       "      <th>de</th>\n",
       "      <th>mcap</th>\n",
       "      <th>current_ratio</th>\n",
       "    </tr>\n",
       "  </thead>\n",
       "  <tbody>\n",
       "    <tr>\n",
       "      <th>0</th>\n",
       "      <td>0</td>\n",
       "      <td>2.75</td>\n",
       "      <td>-19.25</td>\n",
       "      <td>1.11</td>\n",
       "      <td>545</td>\n",
       "      <td>0.924056</td>\n",
       "    </tr>\n",
       "    <tr>\n",
       "      <th>1</th>\n",
       "      <td>1</td>\n",
       "      <td>4.96</td>\n",
       "      <td>0.83</td>\n",
       "      <td>1.09</td>\n",
       "      <td>630</td>\n",
       "      <td>1.468572</td>\n",
       "    </tr>\n",
       "    <tr>\n",
       "      <th>2</th>\n",
       "      <td>1</td>\n",
       "      <td>2.78</td>\n",
       "      <td>1.09</td>\n",
       "      <td>0.19</td>\n",
       "      <td>562</td>\n",
       "      <td>1.975875</td>\n",
       "    </tr>\n",
       "    <tr>\n",
       "      <th>3</th>\n",
       "      <td>0</td>\n",
       "      <td>0.43</td>\n",
       "      <td>12.97</td>\n",
       "      <td>1.70</td>\n",
       "      <td>388</td>\n",
       "      <td>1.941998</td>\n",
       "    </tr>\n",
       "    <tr>\n",
       "      <th>4</th>\n",
       "      <td>1</td>\n",
       "      <td>2.94</td>\n",
       "      <td>2.44</td>\n",
       "      <td>1.83</td>\n",
       "      <td>684</td>\n",
       "      <td>2.487467</td>\n",
       "    </tr>\n",
       "    <tr>\n",
       "      <th>...</th>\n",
       "      <td>...</td>\n",
       "      <td>...</td>\n",
       "      <td>...</td>\n",
       "      <td>...</td>\n",
       "      <td>...</td>\n",
       "      <td>...</td>\n",
       "    </tr>\n",
       "    <tr>\n",
       "      <th>195</th>\n",
       "      <td>1</td>\n",
       "      <td>1.16</td>\n",
       "      <td>37.26</td>\n",
       "      <td>2.47</td>\n",
       "      <td>404</td>\n",
       "      <td>1.077471</td>\n",
       "    </tr>\n",
       "    <tr>\n",
       "      <th>196</th>\n",
       "      <td>1</td>\n",
       "      <td>3.77</td>\n",
       "      <td>16.33</td>\n",
       "      <td>0.26</td>\n",
       "      <td>760</td>\n",
       "      <td>2.483898</td>\n",
       "    </tr>\n",
       "    <tr>\n",
       "      <th>197</th>\n",
       "      <td>0</td>\n",
       "      <td>1.30</td>\n",
       "      <td>24.69</td>\n",
       "      <td>3.60</td>\n",
       "      <td>236</td>\n",
       "      <td>1.045505</td>\n",
       "    </tr>\n",
       "    <tr>\n",
       "      <th>198</th>\n",
       "      <td>0</td>\n",
       "      <td>1.60</td>\n",
       "      <td>-11.59</td>\n",
       "      <td>3.00</td>\n",
       "      <td>387</td>\n",
       "      <td>0.437697</td>\n",
       "    </tr>\n",
       "    <tr>\n",
       "      <th>199</th>\n",
       "      <td>1</td>\n",
       "      <td>2.22</td>\n",
       "      <td>1.79</td>\n",
       "      <td>0.58</td>\n",
       "      <td>652</td>\n",
       "      <td>2.851633</td>\n",
       "    </tr>\n",
       "  </tbody>\n",
       "</table>\n",
       "<p>200 rows × 6 columns</p>\n",
       "</div>"
      ],
      "text/plain": [
       "     dividend  fcfps  earnings_growth    de  mcap  current_ratio\n",
       "0           0   2.75           -19.25  1.11   545       0.924056\n",
       "1           1   4.96             0.83  1.09   630       1.468572\n",
       "2           1   2.78             1.09  0.19   562       1.975875\n",
       "3           0   0.43            12.97  1.70   388       1.941998\n",
       "4           1   2.94             2.44  1.83   684       2.487467\n",
       "..        ...    ...              ...   ...   ...            ...\n",
       "195         1   1.16            37.26  2.47   404       1.077471\n",
       "196         1   3.77            16.33  0.26   760       2.483898\n",
       "197         0   1.30            24.69  3.60   236       1.045505\n",
       "198         0   1.60           -11.59  3.00   387       0.437697\n",
       "199         1   2.22             1.79  0.58   652       2.851633\n",
       "\n",
       "[200 rows x 6 columns]"
      ]
     },
     "execution_count": 16,
     "metadata": {},
     "output_type": "execute_result"
    }
   ],
   "source": [
    "dividend_data"
   ]
  },
  {
   "cell_type": "code",
   "execution_count": 52,
   "metadata": {
    "colab": {
     "base_uri": "https://localhost:8080/"
    },
    "executionInfo": {
     "elapsed": 7518,
     "status": "ok",
     "timestamp": 1621968240659,
     "user": {
      "displayName": "Leif Wilm",
      "photoUrl": "",
      "userId": "04857518338297398200"
     },
     "user_tz": 360
    },
    "id": "fVoeyBbbC9qe",
    "outputId": "9c516807-7cf6-4340-886c-7ed87890e339"
   },
   "outputs": [
    {
     "name": "stdin",
     "output_type": "stream",
     "text": [
      "Enter the fcfps, free cash flow per share: 10\n",
      "Enter the earnings_growth: 20\n",
      "Enter the de, the detb to equity ratio: 0.1\n",
      "Enter the mcap, the market capitalization: 2000\n",
      "Enter the current_ratio, liquidity ratio: 100\n"
     ]
    },
    {
     "name": "stdout",
     "output_type": "stream",
     "text": [
      "The stock is most likely to: PAY dividends\n"
     ]
    }
   ],
   "source": [
    "def input_test_seq():\n",
    "    \n",
    "    fcfps = float(input('Enter the fcfps, free cash flow per share:'))\n",
    "    while True:\n",
    "        if float(fcfps) < 0:\n",
    "            print('Inalid Entry. Enter fcfps > 0 \\n')\n",
    "            sepal_length = float(input('Enter the fcfps:'))\n",
    "            continue\n",
    "        else:\n",
    "            break\n",
    "\n",
    "    earnings_growth\t = float(input('Enter the earnings_growth:'))\n",
    "\n",
    "\n",
    "    de = float(input('Enter the de, the detb to equity ratio:'))\n",
    "    \n",
    "    while True:\n",
    "        if float(de) < 0 :\n",
    "            print('Invalid Entry. Please enter a positive value.')\n",
    "            de = float(input('Enter the de:'))\n",
    "            continue\n",
    "        else:\n",
    "            break\n",
    "\n",
    "    mcap = float(input('Enter the mcap, the market capitalization:'))\n",
    "    while True:\n",
    "        if float(mcap) < 0 :\n",
    "            print('Invalid entry. Please enter a positive value.')\n",
    "            mcap = float(input('Enter the mcap:'))\n",
    "            continue\n",
    "        else:\n",
    "            break\n",
    "\n",
    "    current_ratio = float(input('Enter the current_ratio, liquidity ratio:'))\n",
    "    while True:\n",
    "        if float(current_ratio) < 0 :\n",
    "            print('Invalid entry. Please enter a positive value.')\n",
    "            current_ratio = float(input('Enter the current_ratio:'))\n",
    "            continue\n",
    "        else:\n",
    "            break\n",
    "            \n",
    "\n",
    "    predict_features = [fcfps, earnings_growth, de, mcap, current_ratio]\n",
    "    predict_features = normalize(predict_features)\n",
    "    result_category = evaluation(trained_params,predict_features)\n",
    "    result_category = np.round(result_category)\n",
    "\n",
    "    if result_category == 0:\n",
    "        value_prediction = \"NOT PAY dividends\"\n",
    "    elif result_category == 1:\n",
    "        value_prediction = \"PAY dividends\"\n",
    "    return value_prediction\n",
    "\n",
    "dividend_prediction = input_test_seq()\n",
    "print(\"The stock is most likely to:\", dividend_prediction)"
   ]
  }
 ],
 "metadata": {
  "_change_revision": 0,
  "_is_fork": false,
  "colab": {
   "collapsed_sections": [],
   "name": "IrisANN.ipynb",
   "provenance": [],
   "toc_visible": true
  },
  "kernelspec": {
   "display_name": "Python 3 (ipykernel)",
   "language": "python",
   "name": "python3"
  },
  "language_info": {
   "codemirror_mode": {
    "name": "ipython",
    "version": 3
   },
   "file_extension": ".py",
   "mimetype": "text/x-python",
   "name": "python",
   "nbconvert_exporter": "python",
   "pygments_lexer": "ipython3",
   "version": "3.11.4"
  }
 },
 "nbformat": 4,
 "nbformat_minor": 4
}
