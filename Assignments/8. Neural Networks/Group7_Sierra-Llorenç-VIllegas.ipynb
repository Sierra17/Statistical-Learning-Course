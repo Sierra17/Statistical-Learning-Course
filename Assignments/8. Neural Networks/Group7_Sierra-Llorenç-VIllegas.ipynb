{
 "cells": [
  {
   "cell_type": "markdown",
   "id": "38e754a3-78b1-4e71-91f9-800f50f505fa",
   "metadata": {},
   "source": [
    "# 0. Introduction"
   ]
  },
  {
   "cell_type": "markdown",
   "id": "9ea0d505-171a-418e-a606-f9287873e4d2",
   "metadata": {},
   "source": [
    "In this assignment, we work with artificial neural networks (ANNs) using some of the examples seen in the lessons to create new programs and algorithms. We will refer to these base programs as \"Group 1\" and \"Group 2\", as they involve different aspects of ANNs. The proposed exercises are presented in in Parts 1 and 2. \n",
    "\n",
    "The base programs are as follows, both written in python:\n",
    "- Group 1: ANNs programmed from scratch to predict the iris type from the flower traits.\n",
    "- Group 2: high-level ANNs to predict diabetes / dividends."
   ]
  },
  {
   "cell_type": "markdown",
   "id": "4d579bbf-c6d2-47e3-a3a8-1d568a952a07",
   "metadata": {},
   "source": [
    "# 1. Adapting Group 2 for the iris dataset"
   ]
  },
  {
   "cell_type": "markdown",
   "id": "d25046d0-2a7b-4541-b559-af11a37a6c24",
   "metadata": {},
   "source": [
    "## Objectives"
   ]
  },
  {
   "cell_type": "markdown",
   "id": "2263ebba-cfc6-499b-beb3-d5df3f62982a",
   "metadata": {},
   "source": [
    "The aim of this Part is to adapt the diabetes prediction to the iris dataset used in Group 1, obtaining a program that predicts the traits of flowers using high-level ANNs. This will involve some workarounds, since now we want to predict categories and with the diabetes/dividend we were working with binary prediction."
   ]
  },
  {
   "cell_type": "markdown",
   "id": "8d5a93c9-6a98-455f-a40e-d164c2cf348c",
   "metadata": {},
   "source": [
    "## Datasets and libraries"
   ]
  },
  {
   "cell_type": "markdown",
   "id": "030c2ab5-ee19-4935-b4b6-5744a7691c13",
   "metadata": {},
   "source": [
    "The main python libraries used across the code are:\n",
    "- `numpy`: fundamental package for scientific computing in Python.\n",
    "- `pandas`: for a more powerful handling of the datasets.\n",
    "- `pyplot`: we will use the submodule `matplotlib` to do most of the plots.\n",
    "- `sklearn`: open source tool built on top of NumPy, and matplotlib. Along with its submodules, it will be the package used to carry out the coding related to the learning procedures.\n",
    "\n",
    "Apart from the libraries pre-imported in the following cell, we import other `sklearn` submodules when needed."
   ]
  },
  {
   "cell_type": "code",
   "execution_count": 1,
   "id": "86e3dc6e-a7fc-41ed-aa30-f5c0ff386371",
   "metadata": {},
   "outputs": [],
   "source": [
    "import pandas as pd\n",
    "import numpy as np \n",
    "import matplotlib.pyplot as plt\n",
    "import sklearn\n",
    "from sklearn.neural_network import MLPClassifier"
   ]
  },
  {
   "cell_type": "markdown",
   "id": "152600f0-d08b-4430-a7da-492705d950ee",
   "metadata": {},
   "source": [
    "The only dataset used in this Part is `IrisData1.csv`, which will be explored in the following section."
   ]
  },
  {
   "cell_type": "markdown",
   "id": "ddc6f1fe-12b3-46a4-965d-ad68cc147bd2",
   "metadata": {
    "jp-MarkdownHeadingCollapsed": true
   },
   "source": [
    "## Exploratory Data Analysis"
   ]
  },
  {
   "cell_type": "code",
   "execution_count": 2,
   "id": "b170b140-b8bb-4b2e-a8b6-be6fba7f7b3d",
   "metadata": {},
   "outputs": [
    {
     "data": {
      "text/html": [
       "<div>\n",
       "<style scoped>\n",
       "    .dataframe tbody tr th:only-of-type {\n",
       "        vertical-align: middle;\n",
       "    }\n",
       "\n",
       "    .dataframe tbody tr th {\n",
       "        vertical-align: top;\n",
       "    }\n",
       "\n",
       "    .dataframe thead th {\n",
       "        text-align: right;\n",
       "    }\n",
       "</style>\n",
       "<table border=\"1\" class=\"dataframe\">\n",
       "  <thead>\n",
       "    <tr style=\"text-align: right;\">\n",
       "      <th></th>\n",
       "      <th>Sepal_Length</th>\n",
       "      <th>Sepal_Width</th>\n",
       "      <th>Petal_Length</th>\n",
       "      <th>Petal_Width</th>\n",
       "      <th>Species</th>\n",
       "    </tr>\n",
       "  </thead>\n",
       "  <tbody>\n",
       "    <tr>\n",
       "      <th>0</th>\n",
       "      <td>5.1</td>\n",
       "      <td>3.5</td>\n",
       "      <td>1.4</td>\n",
       "      <td>0.2</td>\n",
       "      <td>Iris-setosa</td>\n",
       "    </tr>\n",
       "    <tr>\n",
       "      <th>1</th>\n",
       "      <td>4.9</td>\n",
       "      <td>3.0</td>\n",
       "      <td>1.4</td>\n",
       "      <td>0.2</td>\n",
       "      <td>Iris-setosa</td>\n",
       "    </tr>\n",
       "    <tr>\n",
       "      <th>2</th>\n",
       "      <td>4.7</td>\n",
       "      <td>3.2</td>\n",
       "      <td>1.3</td>\n",
       "      <td>0.2</td>\n",
       "      <td>Iris-setosa</td>\n",
       "    </tr>\n",
       "    <tr>\n",
       "      <th>3</th>\n",
       "      <td>4.6</td>\n",
       "      <td>3.1</td>\n",
       "      <td>1.5</td>\n",
       "      <td>0.2</td>\n",
       "      <td>Iris-setosa</td>\n",
       "    </tr>\n",
       "    <tr>\n",
       "      <th>4</th>\n",
       "      <td>5.0</td>\n",
       "      <td>3.6</td>\n",
       "      <td>1.4</td>\n",
       "      <td>0.2</td>\n",
       "      <td>Iris-setosa</td>\n",
       "    </tr>\n",
       "  </tbody>\n",
       "</table>\n",
       "</div>"
      ],
      "text/plain": [
       "   Sepal_Length  Sepal_Width  Petal_Length  Petal_Width      Species\n",
       "0           5.1          3.5           1.4          0.2  Iris-setosa\n",
       "1           4.9          3.0           1.4          0.2  Iris-setosa\n",
       "2           4.7          3.2           1.3          0.2  Iris-setosa\n",
       "3           4.6          3.1           1.5          0.2  Iris-setosa\n",
       "4           5.0          3.6           1.4          0.2  Iris-setosa"
      ]
     },
     "execution_count": 2,
     "metadata": {},
     "output_type": "execute_result"
    }
   ],
   "source": [
    "df = pd.read_csv(\"IrisData1.csv\", sep = \",\")\n",
    "df.head()"
   ]
  },
  {
   "cell_type": "code",
   "execution_count": 11,
   "id": "e3878f19-4ec6-40cc-98cb-2c7c2680c568",
   "metadata": {},
   "outputs": [
    {
     "data": {
      "text/html": [
       "<div>\n",
       "<style scoped>\n",
       "    .dataframe tbody tr th:only-of-type {\n",
       "        vertical-align: middle;\n",
       "    }\n",
       "\n",
       "    .dataframe tbody tr th {\n",
       "        vertical-align: top;\n",
       "    }\n",
       "\n",
       "    .dataframe thead th {\n",
       "        text-align: right;\n",
       "    }\n",
       "</style>\n",
       "<table border=\"1\" class=\"dataframe\">\n",
       "  <thead>\n",
       "    <tr style=\"text-align: right;\">\n",
       "      <th></th>\n",
       "      <th>Sepal_Length</th>\n",
       "      <th>Sepal_Width</th>\n",
       "      <th>Petal_Length</th>\n",
       "      <th>Petal_Width</th>\n",
       "    </tr>\n",
       "  </thead>\n",
       "  <tbody>\n",
       "    <tr>\n",
       "      <th>count</th>\n",
       "      <td>150.000000</td>\n",
       "      <td>150.000000</td>\n",
       "      <td>150.000000</td>\n",
       "      <td>150.000000</td>\n",
       "    </tr>\n",
       "    <tr>\n",
       "      <th>mean</th>\n",
       "      <td>5.843333</td>\n",
       "      <td>3.054000</td>\n",
       "      <td>3.758667</td>\n",
       "      <td>1.198667</td>\n",
       "    </tr>\n",
       "    <tr>\n",
       "      <th>std</th>\n",
       "      <td>0.828066</td>\n",
       "      <td>0.433594</td>\n",
       "      <td>1.764420</td>\n",
       "      <td>0.763161</td>\n",
       "    </tr>\n",
       "    <tr>\n",
       "      <th>min</th>\n",
       "      <td>4.300000</td>\n",
       "      <td>2.000000</td>\n",
       "      <td>1.000000</td>\n",
       "      <td>0.100000</td>\n",
       "    </tr>\n",
       "    <tr>\n",
       "      <th>25%</th>\n",
       "      <td>5.100000</td>\n",
       "      <td>2.800000</td>\n",
       "      <td>1.600000</td>\n",
       "      <td>0.300000</td>\n",
       "    </tr>\n",
       "    <tr>\n",
       "      <th>50%</th>\n",
       "      <td>5.800000</td>\n",
       "      <td>3.000000</td>\n",
       "      <td>4.350000</td>\n",
       "      <td>1.300000</td>\n",
       "    </tr>\n",
       "    <tr>\n",
       "      <th>75%</th>\n",
       "      <td>6.400000</td>\n",
       "      <td>3.300000</td>\n",
       "      <td>5.100000</td>\n",
       "      <td>1.800000</td>\n",
       "    </tr>\n",
       "    <tr>\n",
       "      <th>max</th>\n",
       "      <td>7.900000</td>\n",
       "      <td>4.400000</td>\n",
       "      <td>6.900000</td>\n",
       "      <td>2.500000</td>\n",
       "    </tr>\n",
       "  </tbody>\n",
       "</table>\n",
       "</div>"
      ],
      "text/plain": [
       "       Sepal_Length  Sepal_Width  Petal_Length  Petal_Width\n",
       "count    150.000000   150.000000    150.000000   150.000000\n",
       "mean       5.843333     3.054000      3.758667     1.198667\n",
       "std        0.828066     0.433594      1.764420     0.763161\n",
       "min        4.300000     2.000000      1.000000     0.100000\n",
       "25%        5.100000     2.800000      1.600000     0.300000\n",
       "50%        5.800000     3.000000      4.350000     1.300000\n",
       "75%        6.400000     3.300000      5.100000     1.800000\n",
       "max        7.900000     4.400000      6.900000     2.500000"
      ]
     },
     "execution_count": 11,
     "metadata": {},
     "output_type": "execute_result"
    }
   ],
   "source": [
    "df.describe() # Taking a look at the mean values, the minimum and maximums, we can observe that all features are of the same order."
   ]
  },
  {
   "cell_type": "code",
   "execution_count": 4,
   "id": "ec9206be-4c3d-447a-8bac-a4c6f12bd288",
   "metadata": {},
   "outputs": [
    {
     "name": "stdout",
     "output_type": "stream",
     "text": [
      "<class 'pandas.core.frame.DataFrame'>\n",
      "RangeIndex: 150 entries, 0 to 149\n",
      "Data columns (total 5 columns):\n",
      " #   Column        Non-Null Count  Dtype  \n",
      "---  ------        --------------  -----  \n",
      " 0   Sepal_Length  150 non-null    float64\n",
      " 1   Sepal_Width   150 non-null    float64\n",
      " 2   Petal_Length  150 non-null    float64\n",
      " 3   Petal_Width   150 non-null    float64\n",
      " 4   Species       150 non-null    object \n",
      "dtypes: float64(4), object(1)\n",
      "memory usage: 6.0+ KB\n"
     ]
    }
   ],
   "source": [
    "df.info() # There are no \"non-nulls\""
   ]
  },
  {
   "cell_type": "markdown",
   "id": "64c557e5-e4b6-4553-bc1d-744d0e5471e5",
   "metadata": {
    "jp-MarkdownHeadingCollapsed": true
   },
   "source": [
    "## Train-test split and model fitting"
   ]
  },
  {
   "cell_type": "code",
   "execution_count": 5,
   "id": "308bac50-40d7-4008-86fa-d4b6ba6ccb42",
   "metadata": {},
   "outputs": [
    {
     "data": {
      "image/png": "[encoded data removed]",
      "text/plain": [
       "<Figure size 400x300 with 1 Axes>"
      ]
     },
     "metadata": {},
     "output_type": "display_data"
    }
   ],
   "source": [
    "# We can observe that there are only three types of species and their counts are equal, 50 in this case.\n",
    "\n",
    "unique_values, counts = np.unique(df.iloc[:, -1], return_counts=True)\n",
    "\n",
    "\n",
    "plt.figure(figsize=(4, 3)) \n",
    "plt.bar(unique_values, counts)\n",
    "plt.xlabel('Class'); plt.ylabel('Frequency')\n",
    "plt.title('Histogram of Occurrences of Species')\n",
    "plt.show()"
   ]
  },
  {
   "cell_type": "code",
   "execution_count": 6,
   "id": "5a2e2b9f-5bce-46c3-b7bf-5522ea53ce46",
   "metadata": {},
   "outputs": [],
   "source": [
    "features = pd.read_csv(\"IrisData1.csv\", sep = \",\")\n",
    "labels = features.pop(('Species')) # Selects a column of the data and drops it at the same time\n",
    "X = np.array(features)"
   ]
  },
  {
   "cell_type": "code",
   "execution_count": 7,
   "id": "80e473fc-c3d6-4b3f-a743-1f01b281083a",
   "metadata": {},
   "outputs": [
    {
     "data": {
      "text/html": [
       "<div>\n",
       "<style scoped>\n",
       "    .dataframe tbody tr th:only-of-type {\n",
       "        vertical-align: middle;\n",
       "    }\n",
       "\n",
       "    .dataframe tbody tr th {\n",
       "        vertical-align: top;\n",
       "    }\n",
       "\n",
       "    .dataframe thead th {\n",
       "        text-align: right;\n",
       "    }\n",
       "</style>\n",
       "<table border=\"1\" class=\"dataframe\">\n",
       "  <thead>\n",
       "    <tr style=\"text-align: right;\">\n",
       "      <th></th>\n",
       "      <th>Original Label</th>\n",
       "      <th>Encoded Label</th>\n",
       "    </tr>\n",
       "  </thead>\n",
       "  <tbody>\n",
       "    <tr>\n",
       "      <th>0</th>\n",
       "      <td>Iris-setosa</td>\n",
       "      <td>0</td>\n",
       "    </tr>\n",
       "    <tr>\n",
       "      <th>1</th>\n",
       "      <td>Iris-versicolor</td>\n",
       "      <td>1</td>\n",
       "    </tr>\n",
       "    <tr>\n",
       "      <th>2</th>\n",
       "      <td>Iris-virginica</td>\n",
       "      <td>2</td>\n",
       "    </tr>\n",
       "  </tbody>\n",
       "</table>\n",
       "</div>"
      ],
      "text/plain": [
       "    Original Label  Encoded Label\n",
       "0      Iris-setosa              0\n",
       "1  Iris-versicolor              1\n",
       "2   Iris-virginica              2"
      ]
     },
     "execution_count": 7,
     "metadata": {},
     "output_type": "execute_result"
    }
   ],
   "source": [
    "from sklearn.preprocessing import LabelEncoder\n",
    "\n",
    "label_encoder = sklearn.preprocessing.LabelEncoder()\n",
    "y = label_encoder.fit_transform(np.array(labels))\n",
    "\n",
    "unique_classes = label_encoder.classes_\n",
    "encoded_values = label_encoder.transform(unique_classes)\n",
    "\n",
    "equivalences_df = pd.DataFrame({'Original Label': unique_classes, 'Encoded Label': encoded_values})\n",
    "equivalences_df"
   ]
  },
  {
   "cell_type": "code",
   "execution_count": 8,
   "id": "c0403307-dd07-423b-86b8-92fa33fd0b82",
   "metadata": {},
   "outputs": [
    {
     "name": "stdout",
     "output_type": "stream",
     "text": [
      "(100, 4)\n",
      "(50, 4)\n"
     ]
    }
   ],
   "source": [
    "X_train, X_test, y_train, y_test = sklearn.model_selection.train_test_split(X, y, test_size = 1/3, random_state = 1234)\n",
    "print(X_train.shape)\n",
    "print(X_test.shape)"
   ]
  },
  {
   "cell_type": "code",
   "execution_count": 9,
   "id": "98d729e8-744d-4418-9f5f-ff545119d777",
   "metadata": {},
   "outputs": [
    {
     "data": {
      "text/html": [
       "<style>#sk-container-id-1 {\n",
       "  /* Definition of color scheme common for light and dark mode */\n",
       "  --sklearn-color-text: black;\n",
       "  --sklearn-color-line: gray;\n",
       "  /* Definition of color scheme for unfitted estimators */\n",
       "  --sklearn-color-unfitted-level-0: #fff5e6;\n",
       "  --sklearn-color-unfitted-level-1: #f6e4d2;\n",
       "  --sklearn-color-unfitted-level-2: #ffe0b3;\n",
       "  --sklearn-color-unfitted-level-3: chocolate;\n",
       "  /* Definition of color scheme for fitted estimators */\n",
       "  --sklearn-color-fitted-level-0: #f0f8ff;\n",
       "  --sklearn-color-fitted-level-1: #d4ebff;\n",
       "  --sklearn-color-fitted-level-2: #b3dbfd;\n",
       "  --sklearn-color-fitted-level-3: cornflowerblue;\n",
       "\n",
       "  /* Specific color for light theme */\n",
       "  --sklearn-color-text-on-default-background: var(--sg-text-color, var(--theme-code-foreground, var(--jp-content-font-color1, black)));\n",
       "  --sklearn-color-background: var(--sg-background-color, var(--theme-background, var(--jp-layout-color0, white)));\n",
       "  --sklearn-color-border-box: var(--sg-text-color, var(--theme-code-foreground, var(--jp-content-font-color1, black)));\n",
       "  --sklearn-color-icon: #696969;\n",
       "\n",
       "  @media (prefers-color-scheme: dark) {\n",
       "    /* Redefinition of color scheme for dark theme */\n",
       "    --sklearn-color-text-on-default-background: var(--sg-text-color, var(--theme-code-foreground, var(--jp-content-font-color1, white)));\n",
       "    --sklearn-color-background: var(--sg-background-color, var(--theme-background, var(--jp-layout-color0, #111)));\n",
       "    --sklearn-color-border-box: var(--sg-text-color, var(--theme-code-foreground, var(--jp-content-font-color1, white)));\n",
       "    --sklearn-color-icon: #878787;\n",
       "  }\n",
       "}\n",
       "\n",
       "#sk-container-id-1 {\n",
       "  color: var(--sklearn-color-text);\n",
       "}\n",
       "\n",
       "#sk-container-id-1 pre {\n",
       "  padding: 0;\n",
       "}\n",
       "\n",
       "#sk-container-id-1 input.sk-hidden--visually {\n",
       "  border: 0;\n",
       "  clip: rect(1px 1px 1px 1px);\n",
       "  clip: rect(1px, 1px, 1px, 1px);\n",
       "  height: 1px;\n",
       "  margin: -1px;\n",
       "  overflow: hidden;\n",
       "  padding: 0;\n",
       "  position: absolute;\n",
       "  width: 1px;\n",
       "}\n",
       "\n",
       "#sk-container-id-1 div.sk-dashed-wrapped {\n",
       "  border: 1px dashed var(--sklearn-color-line);\n",
       "  margin: 0 0.4em 0.5em 0.4em;\n",
       "  box-sizing: border-box;\n",
       "  padding-bottom: 0.4em;\n",
       "  background-color: var(--sklearn-color-background);\n",
       "}\n",
       "\n",
       "#sk-container-id-1 div.sk-container {\n",
       "  /* jupyter's `normalize.less` sets `[hidden] { display: none; }`\n",
       "     but bootstrap.min.css set `[hidden] { display: none !important; }`\n",
       "     so we also need the `!important` here to be able to override the\n",
       "     default hidden behavior on the sphinx rendered scikit-learn.org.\n",
       "     See: https://github.com/scikit-learn/scikit-learn/issues/21755 */\n",
       "  display: inline-block !important;\n",
       "  position: relative;\n",
       "}\n",
       "\n",
       "#sk-container-id-1 div.sk-text-repr-fallback {\n",
       "  display: none;\n",
       "}\n",
       "\n",
       "div.sk-parallel-item,\n",
       "div.sk-serial,\n",
       "div.sk-item {\n",
       "  /* draw centered vertical line to link estimators */\n",
       "  background-image: linear-gradient(var(--sklearn-color-text-on-default-background), var(--sklearn-color-text-on-default-background));\n",
       "  background-size: 2px 100%;\n",
       "  background-repeat: no-repeat;\n",
       "  background-position: center center;\n",
       "}\n",
       "\n",
       "/* Parallel-specific style estimator block */\n",
       "\n",
       "#sk-container-id-1 div.sk-parallel-item::after {\n",
       "  content: \"\";\n",
       "  width: 100%;\n",
       "  border-bottom: 2px solid var(--sklearn-color-text-on-default-background);\n",
       "  flex-grow: 1;\n",
       "}\n",
       "\n",
       "#sk-container-id-1 div.sk-parallel {\n",
       "  display: flex;\n",
       "  align-items: stretch;\n",
       "  justify-content: center;\n",
       "  background-color: var(--sklearn-color-background);\n",
       "  position: relative;\n",
       "}\n",
       "\n",
       "#sk-container-id-1 div.sk-parallel-item {\n",
       "  display: flex;\n",
       "  flex-direction: column;\n",
       "}\n",
       "\n",
       "#sk-container-id-1 div.sk-parallel-item:first-child::after {\n",
       "  align-self: flex-end;\n",
       "  width: 50%;\n",
       "}\n",
       "\n",
       "#sk-container-id-1 div.sk-parallel-item:last-child::after {\n",
       "  align-self: flex-start;\n",
       "  width: 50%;\n",
       "}\n",
       "\n",
       "#sk-container-id-1 div.sk-parallel-item:only-child::after {\n",
       "  width: 0;\n",
       "}\n",
       "\n",
       "/* Serial-specific style estimator block */\n",
       "\n",
       "#sk-container-id-1 div.sk-serial {\n",
       "  display: flex;\n",
       "  flex-direction: column;\n",
       "  align-items: center;\n",
       "  background-color: var(--sklearn-color-background);\n",
       "  padding-right: 1em;\n",
       "  padding-left: 1em;\n",
       "}\n",
       "\n",
       "\n",
       "/* Toggleable style: style used for estimator/Pipeline/ColumnTransformer box that is\n",
       "clickable and can be expanded/collapsed.\n",
       "- Pipeline and ColumnTransformer use this feature and define the default style\n",
       "- Estimators will overwrite some part of the style using the `sk-estimator` class\n",
       "*/\n",
       "\n",
       "/* Pipeline and ColumnTransformer style (default) */\n",
       "\n",
       "#sk-container-id-1 div.sk-toggleable {\n",
       "  /* Default theme specific background. It is overwritten whether we have a\n",
       "  specific estimator or a Pipeline/ColumnTransformer */\n",
       "  background-color: var(--sklearn-color-background);\n",
       "}\n",
       "\n",
       "/* Toggleable label */\n",
       "#sk-container-id-1 label.sk-toggleable__label {\n",
       "  cursor: pointer;\n",
       "  display: block;\n",
       "  width: 100%;\n",
       "  margin-bottom: 0;\n",
       "  padding: 0.5em;\n",
       "  box-sizing: border-box;\n",
       "  text-align: center;\n",
       "}\n",
       "\n",
       "#sk-container-id-1 label.sk-toggleable__label-arrow:before {\n",
       "  /* Arrow on the left of the label */\n",
       "  content: \"▸\";\n",
       "  float: left;\n",
       "  margin-right: 0.25em;\n",
       "  color: var(--sklearn-color-icon);\n",
       "}\n",
       "\n",
       "#sk-container-id-1 label.sk-toggleable__label-arrow:hover:before {\n",
       "  color: var(--sklearn-color-text);\n",
       "}\n",
       "\n",
       "/* Toggleable content - dropdown */\n",
       "\n",
       "#sk-container-id-1 div.sk-toggleable__content {\n",
       "  max-height: 0;\n",
       "  max-width: 0;\n",
       "  overflow: hidden;\n",
       "  text-align: left;\n",
       "  /* unfitted */\n",
       "  background-color: var(--sklearn-color-unfitted-level-0);\n",
       "}\n",
       "\n",
       "#sk-container-id-1 div.sk-toggleable__content.fitted {\n",
       "  /* fitted */\n",
       "  background-color: var(--sklearn-color-fitted-level-0);\n",
       "}\n",
       "\n",
       "#sk-container-id-1 div.sk-toggleable__content pre {\n",
       "  margin: 0.2em;\n",
       "  border-radius: 0.25em;\n",
       "  color: var(--sklearn-color-text);\n",
       "  /* unfitted */\n",
       "  background-color: var(--sklearn-color-unfitted-level-0);\n",
       "}\n",
       "\n",
       "#sk-container-id-1 div.sk-toggleable__content.fitted pre {\n",
       "  /* unfitted */\n",
       "  background-color: var(--sklearn-color-fitted-level-0);\n",
       "}\n",
       "\n",
       "#sk-container-id-1 input.sk-toggleable__control:checked~div.sk-toggleable__content {\n",
       "  /* Expand drop-down */\n",
       "  max-height: 200px;\n",
       "  max-width: 100%;\n",
       "  overflow: auto;\n",
       "}\n",
       "\n",
       "#sk-container-id-1 input.sk-toggleable__control:checked~label.sk-toggleable__label-arrow:before {\n",
       "  content: \"▾\";\n",
       "}\n",
       "\n",
       "/* Pipeline/ColumnTransformer-specific style */\n",
       "\n",
       "#sk-container-id-1 div.sk-label input.sk-toggleable__control:checked~label.sk-toggleable__label {\n",
       "  color: var(--sklearn-color-text);\n",
       "  background-color: var(--sklearn-color-unfitted-level-2);\n",
       "}\n",
       "\n",
       "#sk-container-id-1 div.sk-label.fitted input.sk-toggleable__control:checked~label.sk-toggleable__label {\n",
       "  background-color: var(--sklearn-color-fitted-level-2);\n",
       "}\n",
       "\n",
       "/* Estimator-specific style */\n",
       "\n",
       "/* Colorize estimator box */\n",
       "#sk-container-id-1 div.sk-estimator input.sk-toggleable__control:checked~label.sk-toggleable__label {\n",
       "  /* unfitted */\n",
       "  background-color: var(--sklearn-color-unfitted-level-2);\n",
       "}\n",
       "\n",
       "#sk-container-id-1 div.sk-estimator.fitted input.sk-toggleable__control:checked~label.sk-toggleable__label {\n",
       "  /* fitted */\n",
       "  background-color: var(--sklearn-color-fitted-level-2);\n",
       "}\n",
       "\n",
       "#sk-container-id-1 div.sk-label label.sk-toggleable__label,\n",
       "#sk-container-id-1 div.sk-label label {\n",
       "  /* The background is the default theme color */\n",
       "  color: var(--sklearn-color-text-on-default-background);\n",
       "}\n",
       "\n",
       "/* On hover, darken the color of the background */\n",
       "#sk-container-id-1 div.sk-label:hover label.sk-toggleable__label {\n",
       "  color: var(--sklearn-color-text);\n",
       "  background-color: var(--sklearn-color-unfitted-level-2);\n",
       "}\n",
       "\n",
       "/* Label box, darken color on hover, fitted */\n",
       "#sk-container-id-1 div.sk-label.fitted:hover label.sk-toggleable__label.fitted {\n",
       "  color: var(--sklearn-color-text);\n",
       "  background-color: var(--sklearn-color-fitted-level-2);\n",
       "}\n",
       "\n",
       "/* Estimator label */\n",
       "\n",
       "#sk-container-id-1 div.sk-label label {\n",
       "  font-family: monospace;\n",
       "  font-weight: bold;\n",
       "  display: inline-block;\n",
       "  line-height: 1.2em;\n",
       "}\n",
       "\n",
       "#sk-container-id-1 div.sk-label-container {\n",
       "  text-align: center;\n",
       "}\n",
       "\n",
       "/* Estimator-specific */\n",
       "#sk-container-id-1 div.sk-estimator {\n",
       "  font-family: monospace;\n",
       "  border: 1px dotted var(--sklearn-color-border-box);\n",
       "  border-radius: 0.25em;\n",
       "  box-sizing: border-box;\n",
       "  margin-bottom: 0.5em;\n",
       "  /* unfitted */\n",
       "  background-color: var(--sklearn-color-unfitted-level-0);\n",
       "}\n",
       "\n",
       "#sk-container-id-1 div.sk-estimator.fitted {\n",
       "  /* fitted */\n",
       "  background-color: var(--sklearn-color-fitted-level-0);\n",
       "}\n",
       "\n",
       "/* on hover */\n",
       "#sk-container-id-1 div.sk-estimator:hover {\n",
       "  /* unfitted */\n",
       "  background-color: var(--sklearn-color-unfitted-level-2);\n",
       "}\n",
       "\n",
       "#sk-container-id-1 div.sk-estimator.fitted:hover {\n",
       "  /* fitted */\n",
       "  background-color: var(--sklearn-color-fitted-level-2);\n",
       "}\n",
       "\n",
       "/* Specification for estimator info (e.g. \"i\" and \"?\") */\n",
       "\n",
       "/* Common style for \"i\" and \"?\" */\n",
       "\n",
       ".sk-estimator-doc-link,\n",
       "a:link.sk-estimator-doc-link,\n",
       "a:visited.sk-estimator-doc-link {\n",
       "  float: right;\n",
       "  font-size: smaller;\n",
       "  line-height: 1em;\n",
       "  font-family: monospace;\n",
       "  background-color: var(--sklearn-color-background);\n",
       "  border-radius: 1em;\n",
       "  height: 1em;\n",
       "  width: 1em;\n",
       "  text-decoration: none !important;\n",
       "  margin-left: 1ex;\n",
       "  /* unfitted */\n",
       "  border: var(--sklearn-color-unfitted-level-1) 1pt solid;\n",
       "  color: var(--sklearn-color-unfitted-level-1);\n",
       "}\n",
       "\n",
       ".sk-estimator-doc-link.fitted,\n",
       "a:link.sk-estimator-doc-link.fitted,\n",
       "a:visited.sk-estimator-doc-link.fitted {\n",
       "  /* fitted */\n",
       "  border: var(--sklearn-color-fitted-level-1) 1pt solid;\n",
       "  color: var(--sklearn-color-fitted-level-1);\n",
       "}\n",
       "\n",
       "/* On hover */\n",
       "div.sk-estimator:hover .sk-estimator-doc-link:hover,\n",
       ".sk-estimator-doc-link:hover,\n",
       "div.sk-label-container:hover .sk-estimator-doc-link:hover,\n",
       ".sk-estimator-doc-link:hover {\n",
       "  /* unfitted */\n",
       "  background-color: var(--sklearn-color-unfitted-level-3);\n",
       "  color: var(--sklearn-color-background);\n",
       "  text-decoration: none;\n",
       "}\n",
       "\n",
       "div.sk-estimator.fitted:hover .sk-estimator-doc-link.fitted:hover,\n",
       ".sk-estimator-doc-link.fitted:hover,\n",
       "div.sk-label-container:hover .sk-estimator-doc-link.fitted:hover,\n",
       ".sk-estimator-doc-link.fitted:hover {\n",
       "  /* fitted */\n",
       "  background-color: var(--sklearn-color-fitted-level-3);\n",
       "  color: var(--sklearn-color-background);\n",
       "  text-decoration: none;\n",
       "}\n",
       "\n",
       "/* Span, style for the box shown on hovering the info icon */\n",
       ".sk-estimator-doc-link span {\n",
       "  display: none;\n",
       "  z-index: 9999;\n",
       "  position: relative;\n",
       "  font-weight: normal;\n",
       "  right: .2ex;\n",
       "  padding: .5ex;\n",
       "  margin: .5ex;\n",
       "  width: min-content;\n",
       "  min-width: 20ex;\n",
       "  max-width: 50ex;\n",
       "  color: var(--sklearn-color-text);\n",
       "  box-shadow: 2pt 2pt 4pt #999;\n",
       "  /* unfitted */\n",
       "  background: var(--sklearn-color-unfitted-level-0);\n",
       "  border: .5pt solid var(--sklearn-color-unfitted-level-3);\n",
       "}\n",
       "\n",
       ".sk-estimator-doc-link.fitted span {\n",
       "  /* fitted */\n",
       "  background: var(--sklearn-color-fitted-level-0);\n",
       "  border: var(--sklearn-color-fitted-level-3);\n",
       "}\n",
       "\n",
       ".sk-estimator-doc-link:hover span {\n",
       "  display: block;\n",
       "}\n",
       "\n",
       "/* \"?\"-specific style due to the `<a>` HTML tag */\n",
       "\n",
       "#sk-container-id-1 a.estimator_doc_link {\n",
       "  float: right;\n",
       "  font-size: 1rem;\n",
       "  line-height: 1em;\n",
       "  font-family: monospace;\n",
       "  background-color: var(--sklearn-color-background);\n",
       "  border-radius: 1rem;\n",
       "  height: 1rem;\n",
       "  width: 1rem;\n",
       "  text-decoration: none;\n",
       "  /* unfitted */\n",
       "  color: var(--sklearn-color-unfitted-level-1);\n",
       "  border: var(--sklearn-color-unfitted-level-1) 1pt solid;\n",
       "}\n",
       "\n",
       "#sk-container-id-1 a.estimator_doc_link.fitted {\n",
       "  /* fitted */\n",
       "  border: var(--sklearn-color-fitted-level-1) 1pt solid;\n",
       "  color: var(--sklearn-color-fitted-level-1);\n",
       "}\n",
       "\n",
       "/* On hover */\n",
       "#sk-container-id-1 a.estimator_doc_link:hover {\n",
       "  /* unfitted */\n",
       "  background-color: var(--sklearn-color-unfitted-level-3);\n",
       "  color: var(--sklearn-color-background);\n",
       "  text-decoration: none;\n",
       "}\n",
       "\n",
       "#sk-container-id-1 a.estimator_doc_link.fitted:hover {\n",
       "  /* fitted */\n",
       "  background-color: var(--sklearn-color-fitted-level-3);\n",
       "}\n",
       "</style><div id=\"sk-container-id-1\" class=\"sk-top-container\"><div class=\"sk-text-repr-fallback\"><pre>MLPClassifier(hidden_layer_sizes=(10,), max_iter=2000, random_state=4321)</pre><b>In a Jupyter environment, please rerun this cell to show the HTML representation or trust the notebook. <br />On GitHub, the HTML representation is unable to render, please try loading this page with nbviewer.org.</b></div><div class=\"sk-container\" hidden><div class=\"sk-item\"><div class=\"sk-estimator fitted sk-toggleable\"><input class=\"sk-toggleable__control sk-hidden--visually\" id=\"sk-estimator-id-1\" type=\"checkbox\" checked><label for=\"sk-estimator-id-1\" class=\"sk-toggleable__label fitted sk-toggleable__label-arrow fitted\">&nbsp;&nbsp;MLPClassifier<a class=\"sk-estimator-doc-link fitted\" rel=\"noreferrer\" target=\"_blank\" href=\"https://scikit-learn.org/1.4/modules/generated/sklearn.neural_network.MLPClassifier.html\">?<span>Documentation for MLPClassifier</span></a><span class=\"sk-estimator-doc-link fitted\">i<span>Fitted</span></span></label><div class=\"sk-toggleable__content fitted\"><pre>MLPClassifier(hidden_layer_sizes=(10,), max_iter=2000, random_state=4321)</pre></div> </div></div></div></div>"
      ],
      "text/plain": [
       "MLPClassifier(hidden_layer_sizes=(10,), max_iter=2000, random_state=4321)"
      ]
     },
     "execution_count": 9,
     "metadata": {},
     "output_type": "execute_result"
    }
   ],
   "source": [
    "from sklearn.neural_network import MLPClassifier\n",
    "\n",
    "# The MLPClassifier automatically sets the input layer's and output layer's shape\n",
    "# We only get to set the hidden_layer_size. We set it to 10 i.e. there are 10 neurons \n",
    "mlp = MLPClassifier(hidden_layer_sizes = (10,), \n",
    "                    activation = 'relu', \n",
    "                    solver = 'adam', \n",
    "                    max_iter = 2000, \n",
    "                   random_state = 4321)\n",
    "\n",
    "mlp.fit(X_train, y_train)"
   ]
  },
  {
   "cell_type": "code",
   "execution_count": 10,
   "id": "48e11670-fdf7-48f9-bbb7-87c9b50e5a0a",
   "metadata": {},
   "outputs": [
    {
     "data": {
      "image/png": "[encoded data removed]",
      "text/plain": [
       "<Figure size 500x500 with 2 Axes>"
      ]
     },
     "metadata": {},
     "output_type": "display_data"
    },
    {
     "name": "stdout",
     "output_type": "stream",
     "text": [
      "\n",
      "Classification Report:\n",
      "               precision    recall  f1-score   support\n",
      "\n",
      "           0       1.00      1.00      1.00        17\n",
      "           1       1.00      1.00      1.00        17\n",
      "           2       1.00      1.00      1.00        16\n",
      "\n",
      "    accuracy                           1.00        50\n",
      "   macro avg       1.00      1.00      1.00        50\n",
      "weighted avg       1.00      1.00      1.00        50\n",
      "\n"
     ]
    }
   ],
   "source": [
    "from sklearn.metrics import confusion_matrix, classification_report, ConfusionMatrixDisplay\n",
    "\n",
    "y_pred = mlp.predict(X_test)\n",
    "\n",
    "cm = confusion_matrix(y_test, y_pred) \n",
    "cmp = ConfusionMatrixDisplay(confusion_matrix= cm)\n",
    "\n",
    "fig, ax = plt.subplots(figsize=(5,5))\n",
    "cmp.plot(ax=ax, cmap = plt.cm.Blues)\n",
    "\n",
    "ax.set_xticklabels(label_encoder.classes_, rotation = 90)\n",
    "ax.set_yticklabels(label_encoder.classes_)\n",
    "\n",
    "plt.title(\"Confusion matrix\")\n",
    "plt.show()\n",
    "\n",
    "print(\"\\nClassification Report:\\n\", classification_report(y_test, y_pred))"
   ]
  },
  {
   "cell_type": "markdown",
   "id": "72ff719c-d054-42a9-a718-71bf3b2da6e5",
   "metadata": {},
   "source": [
    "# 2. Adapting Group 1 for the dividend dataset"
   ]
  },
  {
   "cell_type": "markdown",
   "id": "3f3f8943-f2fd-4999-b3d4-953d4b02de30",
   "metadata": {},
   "source": [
    "## Objectives"
   ]
  },
  {
   "cell_type": "markdown",
   "id": "dcf29fdd-a094-4098-afa9-82e7b86818b7",
   "metadata": {},
   "source": [
    "The aim of this Part is to adapt the iris prediction to the dividend dataset used in the R version of Group 2, programming an ANN from scratch."
   ]
  },
  {
   "cell_type": "markdown",
   "id": "e9989d43-8ccf-4c50-8cc9-a2ad5210ec1a",
   "metadata": {
    "jupyter": {
     "source_hidden": true
    }
   },
   "source": [
    "## Datasets and libraries"
   ]
  },
  {
   "cell_type": "markdown",
   "id": "70bd2a3e-86c8-4ad2-9330-147710b36187",
   "metadata": {},
   "source": [
    "The main python libraries used across the code are:\n",
    "- `numpy`: fundamental package for scientific computing in Python.\n",
    "- `pandas`: for a more powerful handling of the datasets.\n",
    "- `matplotlib`: to do most of the plots.\n",
    "- `seaborn`: visualization library based on Matplotlib that provides a high-level interface for drawing attractive and informative statistical graphics.\n",
    "\n",
    "Notice how all the pre-imported libraries for this Part are used to compute and visualize. We will use these to create the ANN from scratch and obtain results without the aid of any external Statistical Learning library."
   ]
  },
  {
   "cell_type": "code",
   "execution_count": 1,
   "id": "88b05cec-7855-4c23-a62b-639ff125e83c",
   "metadata": {
    "_cell_guid": "0bb3fe27-8f88-5516-eefc-649a61ce62ae",
    "_uuid": "e9b103b270aa7e62add41bce5fc79b1ed7f2d3a0",
    "cellView": "code",
    "id": "KFjCNR-yPk0o"
   },
   "outputs": [],
   "source": [
    "import numpy as np\n",
    "import pandas as pd\n",
    "import seaborn as sns\n",
    "import matplotlib.pyplot as plt\n",
    "\n",
    "%matplotlib inline"
   ]
  },
  {
   "cell_type": "markdown",
   "id": "54a2576b-3ab7-4f20-864f-72ddc6e9dcd5",
   "metadata": {},
   "source": [
    "The only dataset used in this Part is `dividendinfo.csv`, which will be explored in the following section."
   ]
  },
  {
   "cell_type": "markdown",
   "id": "8078d5f5-fafd-4e0d-90df-ab52505e44ac",
   "metadata": {
    "id": "ZgLg5dAXGrms"
   },
   "source": [
    "## Prodecure"
   ]
  },
  {
   "cell_type": "markdown",
   "id": "eb93cd1f-7e4c-4c77-b048-f327b46bcdd7",
   "metadata": {
    "id": "XbHmHq92MIM1"
   },
   "source": [
    "### Reading the data"
   ]
  },
  {
   "cell_type": "markdown",
   "id": "da83faf4-5b5d-4acd-9eb5-5e5bfd168876",
   "metadata": {},
   "source": [
    "* dividend: Binary indicator of whether the stock pays dividend.\n",
    "* fcfps: Represents the free cash flow per share, how much cash a company generates relative to its share count.\n",
    "* earnings_growth: Percentage growth in earnings.\n",
    "* de: Debt to equity ratio. Indicates company's financial leverage and is a measure of the degree to which a company is financing its operations through debt\n",
    "* mcap: Market capitalization.\n",
    "* current_ratio: Liquidity ratio that measures a company's ability to pay short-term obligations with its current assets."
   ]
  },
  {
   "cell_type": "code",
   "execution_count": 2,
   "id": "29056c5c-403e-40a4-bbc0-ea962ee3b7ac",
   "metadata": {
    "_cell_guid": "504c384b-1248-0bfa-92d8-0909a505438f",
    "_uuid": "8af2462230f4b596a462822bcfaec54ca5e0f362",
    "colab": {
     "base_uri": "https://localhost:8080/",
     "height": 204
    },
    "executionInfo": {
     "elapsed": 13,
     "status": "ok",
     "timestamp": 1621967870877,
     "user": {
      "displayName": "Leif Wilm",
      "photoUrl": "",
      "userId": "04857518338297398200"
     },
     "user_tz": 360
    },
    "id": "U9iOHF9mPk2E",
    "outputId": "acf66200-dbe9-4d59-bc67-29abcec34fd0"
   },
   "outputs": [
    {
     "data": {
      "text/html": [
       "<div>\n",
       "<style scoped>\n",
       "    .dataframe tbody tr th:only-of-type {\n",
       "        vertical-align: middle;\n",
       "    }\n",
       "\n",
       "    .dataframe tbody tr th {\n",
       "        vertical-align: top;\n",
       "    }\n",
       "\n",
       "    .dataframe thead th {\n",
       "        text-align: right;\n",
       "    }\n",
       "</style>\n",
       "<table border=\"1\" class=\"dataframe\">\n",
       "  <thead>\n",
       "    <tr style=\"text-align: right;\">\n",
       "      <th></th>\n",
       "      <th>dividend</th>\n",
       "      <th>fcfps</th>\n",
       "      <th>earnings_growth</th>\n",
       "      <th>de</th>\n",
       "      <th>mcap</th>\n",
       "      <th>current_ratio</th>\n",
       "    </tr>\n",
       "  </thead>\n",
       "  <tbody>\n",
       "    <tr>\n",
       "      <th>0</th>\n",
       "      <td>0</td>\n",
       "      <td>2.75</td>\n",
       "      <td>-19.25</td>\n",
       "      <td>1.11</td>\n",
       "      <td>545</td>\n",
       "      <td>0.924056</td>\n",
       "    </tr>\n",
       "    <tr>\n",
       "      <th>1</th>\n",
       "      <td>1</td>\n",
       "      <td>4.96</td>\n",
       "      <td>0.83</td>\n",
       "      <td>1.09</td>\n",
       "      <td>630</td>\n",
       "      <td>1.468572</td>\n",
       "    </tr>\n",
       "    <tr>\n",
       "      <th>2</th>\n",
       "      <td>1</td>\n",
       "      <td>2.78</td>\n",
       "      <td>1.09</td>\n",
       "      <td>0.19</td>\n",
       "      <td>562</td>\n",
       "      <td>1.975875</td>\n",
       "    </tr>\n",
       "    <tr>\n",
       "      <th>3</th>\n",
       "      <td>0</td>\n",
       "      <td>0.43</td>\n",
       "      <td>12.97</td>\n",
       "      <td>1.70</td>\n",
       "      <td>388</td>\n",
       "      <td>1.941998</td>\n",
       "    </tr>\n",
       "    <tr>\n",
       "      <th>4</th>\n",
       "      <td>1</td>\n",
       "      <td>2.94</td>\n",
       "      <td>2.44</td>\n",
       "      <td>1.83</td>\n",
       "      <td>684</td>\n",
       "      <td>2.487467</td>\n",
       "    </tr>\n",
       "  </tbody>\n",
       "</table>\n",
       "</div>"
      ],
      "text/plain": [
       "   dividend  fcfps  earnings_growth    de  mcap  current_ratio\n",
       "0         0   2.75           -19.25  1.11   545       0.924056\n",
       "1         1   4.96             0.83  1.09   630       1.468572\n",
       "2         1   2.78             1.09  0.19   562       1.975875\n",
       "3         0   0.43            12.97  1.70   388       1.941998\n",
       "4         1   2.94             2.44  1.83   684       2.487467"
      ]
     },
     "execution_count": 2,
     "metadata": {},
     "output_type": "execute_result"
    }
   ],
   "source": [
    "dividend_data = pd.read_csv(\"dividendinfo.csv\")\n",
    "dividend_data.head()"
   ]
  },
  {
   "cell_type": "code",
   "execution_count": 3,
   "id": "1038e965-3e75-43ef-a378-e32a5eee4838",
   "metadata": {
    "colab": {
     "base_uri": "https://localhost:8080/"
    },
    "executionInfo": {
     "elapsed": 11,
     "status": "ok",
     "timestamp": 1621967870878,
     "user": {
      "displayName": "Leif Wilm",
      "photoUrl": "",
      "userId": "04857518338297398200"
     },
     "user_tz": 360
    },
    "id": "UGH2orhQsBFG",
    "outputId": "aa9066f7-9397-40c3-a482-f08cfd057dea"
   },
   "outputs": [
    {
     "name": "stdout",
     "output_type": "stream",
     "text": [
      "Dataset is complete. No missing values\n"
     ]
    }
   ],
   "source": [
    "#Check the dataset to make sure no data is missing and Check the class labels\n",
    "def verify_dataset(data):\n",
    "  #if any of the rows have missing value return datas missing\n",
    "  data_found = 1\n",
    "  for each_column in data.columns:\n",
    "    if data[each_column].isnull().any():\n",
    "            print(\"Data missing in Column \" + each_column)\n",
    "            #if any rows are not missing return Dataset is complete. No missing value\n",
    "            quit()\n",
    "    if data_found == 1:\n",
    "        print(\"Dataset is complete. No missing values\")\n",
    "    return\n",
    "\n",
    "verify_dataset(dividend_data)"
   ]
  },
  {
   "cell_type": "markdown",
   "id": "93fe7881-f889-44ab-8d2b-57b7389d02d3",
   "metadata": {
    "id": "rh8rI4HdMRs-"
   },
   "source": [
    "### One hot encoding function"
   ]
  },
  {
   "cell_type": "code",
   "execution_count": 4,
   "id": "f09f8d98-5d45-4948-bbe0-5692e23a152d",
   "metadata": {
    "_cell_guid": "ec0bfe6e-c47c-f12f-0a1f-6a461105cf70",
    "_uuid": "e624be71b3eb8591ff21ebdb807655ba03a2cabe",
    "id": "l6m47msaPk1Z"
   },
   "outputs": [],
   "source": [
    "#This function accepts an array of categorical variables and returns the one hot encoding\n",
    "def to_one_hot(Y):\n",
    "    n_col = np.amax(Y) + 1\n",
    "    binarized = np.zeros((len(Y), n_col))\n",
    "    for i in range(len(Y)):\n",
    "        binarized[i, Y[i]] = 1.\n",
    "    return binarized\n"
   ]
  },
  {
   "cell_type": "markdown",
   "id": "676d1210-07f6-4ad7-a385-44f22b7b94bb",
   "metadata": {
    "id": "xH0sjBbMMXB0"
   },
   "source": [
    "### Data normalization function"
   ]
  },
  {
   "cell_type": "code",
   "execution_count": 5,
   "id": "ad371a65-7f3a-4a8d-a475-025e41d328e4",
   "metadata": {
    "id": "v4uX-q1M7f_0"
   },
   "outputs": [],
   "source": [
    "#Normalize array\n",
    "def normalize(X, axis=-1, order=2):\n",
    "    l2 = np.atleast_1d(np.linalg.norm(X, order, axis))\n",
    "    l2[l2 == 0] = 1\n",
    "    return X / np.expand_dims(l2, axis)"
   ]
  },
  {
   "cell_type": "markdown",
   "id": "d666ab66-db9b-4e44-86a4-003609048b14",
   "metadata": {
    "id": "Qy8TCnJvMgqK"
   },
   "source": [
    "### Activation function definitions"
   ]
  },
  {
   "cell_type": "code",
   "execution_count": 6,
   "id": "2f35397f-1b5f-4687-843c-84758b2cbded",
   "metadata": {
    "id": "nN0GwjNp7dKl"
   },
   "outputs": [],
   "source": [
    "#sigmoid and its derivative\n",
    "def sigmoid(x):\n",
    "    return 1/(1+np.exp(-x))\n",
    "\n",
    "def sigmoid_deriv(x):\n",
    "    return sigmoid(x)*(1 - sigmoid(x))\n",
    "\n",
    "def user_softmax(x):\n",
    "    exp_x = np.exp(x - np.max(x, axis=1, keepdims=True))\n",
    "    return exp_x / np.sum(exp_x, axis=1, keepdims=True)"
   ]
  },
  {
   "cell_type": "markdown",
   "id": "a4ca5c99-f192-47b1-ae6e-67e44fbac3bb",
   "metadata": {
    "id": "N2nVLxWiMtJn"
   },
   "source": [
    "### Selecting features from a list"
   ]
  },
  {
   "cell_type": "code",
   "execution_count": 7,
   "id": "ea1fdfca-5adb-4faa-87f5-7254c98c1a9e",
   "metadata": {
    "id": "fM-cC1-AHnJg"
   },
   "outputs": [],
   "source": [
    "'''Change the values below'''\n",
    "fcfps = True\n",
    "earnings_growth = True\n",
    "de = True\n",
    "mcap\t = True\n",
    "current_ratio = True\n",
    "'''Change the values above'''\n",
    "\n",
    "feature_list = [fcfps, earnings_growth, de, mcap, current_ratio]"
   ]
  },
  {
   "cell_type": "markdown",
   "id": "7375661b-30b0-421d-8f24-4714986ee102",
   "metadata": {
    "id": "3TrGe_rSMyOV"
   },
   "source": [
    "### Selecting features and running the normalization function"
   ]
  },
  {
   "cell_type": "code",
   "execution_count": 8,
   "id": "eb5e4104-fca0-41d7-be7a-356f151b2816",
   "metadata": {
    "id": "vQDmfbbJFn05"
   },
   "outputs": [],
   "source": [
    "#Specifying the input data \"x\"\n",
    "columns = ['fcfps', 'earnings_growth', 'de', 'mcap', 'current_ratio']\n",
    "x = pd.DataFrame(dividend_data, columns=columns)\n",
    "x = x.to_numpy()\n",
    "x = x[:,feature_list]\n",
    "x = normalize(x)"
   ]
  },
  {
   "cell_type": "markdown",
   "id": "f656c0ae-d10a-47f2-8785-8a0424b547dc",
   "metadata": {
    "id": "BIyog_ePNEnH"
   },
   "source": [
    "### Labelling output data and applying one hot encoding"
   ]
  },
  {
   "cell_type": "code",
   "execution_count": 9,
   "id": "19cfdb11-d432-4991-8a1b-9987f9ef86f3",
   "metadata": {
    "_cell_guid": "635a6d0f-b62b-a978-21c2-445f994e0458",
    "_uuid": "5f737ba55d570d5effe9fbb0f3a1267c4f44fd0a",
    "id": "6MbF7oZ6Pk3X"
   },
   "outputs": [],
   "source": [
    "#Replace the species with 1,2 or 3 as appropriate\n",
    "label_dict = dict()\n",
    "label_dict['0'] = '0'\n",
    "label_dict['1'] = '1'\n",
    "dividend_data['dividend'].replace(['0', '1'], [0, 1], inplace=True)\n",
    "\n",
    "#Get Output, flatten and encode to one-hot\n",
    "columns = ['dividend']\n",
    "\n",
    "y = pd.DataFrame(dividend_data, columns=columns)\n",
    "y = y.to_numpy()\n",
    "y = y.flatten()\n",
    "y = to_one_hot(y)\n"
   ]
  },
  {
   "cell_type": "markdown",
   "id": "839fe4f6-e29e-47df-a6f0-73d18a40fbb6",
   "metadata": {
    "id": "Eg5gsjJtNMQ8"
   },
   "source": [
    "### Train test splitting"
   ]
  },
  {
   "cell_type": "code",
   "execution_count": 10,
   "id": "7580439f-3657-4f9d-a5ad-b95bc189e35f",
   "metadata": {
    "id": "jt9sksyP0QuT"
   },
   "outputs": [],
   "source": [
    "x_y = pd.DataFrame(np.concatenate((x,y), axis=1))\n",
    "def split_dataset_test_train(data,train_size):\n",
    "  data = data.sample(frac=1).reset_index(drop=True)\n",
    "  training_data = data.iloc[:int(train_size * len(data))].reset_index(drop=True)\n",
    "  testing_data = data.iloc[int(train_size * len(data)):].reset_index(drop=True)\n",
    "  return [training_data, testing_data]\n",
    "\n",
    "train_test_data = split_dataset_test_train(x_y,0.7)\n",
    "X_train = train_test_data[0].iloc[:,0:5].to_numpy()\n",
    "X_test = train_test_data[1].iloc[:,0:5].to_numpy()\n",
    "\n",
    "y_train = train_test_data[0].iloc[:,-1:].to_numpy()\n",
    "y_test = train_test_data[1].iloc[:,-1:].to_numpy()"
   ]
  },
  {
   "cell_type": "markdown",
   "id": "24cfaf94-1a2e-4842-b96a-1099027675c8",
   "metadata": {
    "id": "AYmnSNMbNzR2"
   },
   "source": [
    "### Training function definition"
   ]
  },
  {
   "cell_type": "code",
   "execution_count": 11,
   "id": "63758149-ccba-40ac-835c-25553f5612c3",
   "metadata": {
    "id": "qjy05dvNfMil"
   },
   "outputs": [],
   "source": [
    "def training(X_train, y_train, lr, batch_size, epochs, hidden_size):\n",
    "    np.random.seed(42)  # For reproducibility\n",
    "\n",
    "    w0 = 2 * np.random.random((X_train.shape[1], hidden_size)) - 1\n",
    "    w1 = 2 * np.random.random((hidden_size, 1)) - 1  # Output layer has 1 neuron for binary classification\n",
    "\n",
    "    bh = np.random.randn(hidden_size)\n",
    "    bo = np.random.randn(1)\n",
    "\n",
    "    num_samples = len(X_train)\n",
    "    num_batch = (num_samples + batch_size - 1) // batch_size  # Ceiling division\n",
    "\n",
    "    errors = []\n",
    "\n",
    "    for epoch in range(epochs):\n",
    "        for curr_batch in range(num_batch):\n",
    "            batch_start = curr_batch * batch_size\n",
    "            batch_end = min(batch_start + batch_size, num_samples)\n",
    "            input_batch = X_train[batch_start:batch_end]\n",
    "            labels_batch = y_train[batch_start:batch_end]\n",
    "\n",
    "            # Forward propagation\n",
    "            zh = np.dot(input_batch, w0) + bh\n",
    "            layer1 = sigmoid(zh)\n",
    "\n",
    "            zo = np.dot(layer1, w1) + bo\n",
    "            layer2 = sigmoid(zo)\n",
    "\n",
    "            # Backpropagation\n",
    "            layer2_error = layer2 - labels_batch.reshape(-1, 1)\n",
    "            layer2w_delta = np.dot(layer1.T, layer2_error)\n",
    "            layer2b_delta = layer2_error\n",
    "\n",
    "            dcost_dah = np.dot(layer2_error, w1.T)\n",
    "            dah_dzh = sigmoid_deriv(zh)\n",
    "            layer1_error = dah_dzh * dcost_dah\n",
    "            layer1w_delta = np.dot(input_batch.T, layer1_error)\n",
    "            layer1b_delta = layer1_error\n",
    "\n",
    "            # Update Weights and Biases\n",
    "            w0 -= lr * layer1w_delta\n",
    "            bh -= lr * layer1b_delta.sum(axis=0)\n",
    "\n",
    "            w1 -= lr * layer2w_delta\n",
    "            bo -= lr * layer2b_delta.sum(axis=0)\n",
    "\n",
    "        error = np.mean(np.abs(layer2_error))\n",
    "        errors.append(error)\n",
    "\n",
    "    return [w0, bh, w1, bo], error, errors"
   ]
  },
  {
   "cell_type": "markdown",
   "id": "c54f6319-afac-495c-8012-0b50d1fcdd92",
   "metadata": {
    "id": "dor5ostQN4o8"
   },
   "source": [
    "### Evaluation function definition"
   ]
  },
  {
   "cell_type": "code",
   "execution_count": 12,
   "id": "0a88104b-94d0-400d-8502-72801ee7fa92",
   "metadata": {
    "id": "PzW_BpJzBUps"
   },
   "outputs": [],
   "source": [
    "def evaluation(params, tst_set):\n",
    "    w0, bh, w1, bo = params\n",
    "\n",
    "    # Forward propagation\n",
    "    zh = np.dot(tst_set, w0) + bh\n",
    "    layer1 = sigmoid(zh)\n",
    "\n",
    "    zo = np.dot(layer1, w1) + bo\n",
    "    layer2 = sigmoid(zo)\n",
    "\n",
    "    return layer2"
   ]
  },
  {
   "cell_type": "markdown",
   "id": "1c990e9b-22b5-4968-b234-6a95b8e9a0d5",
   "metadata": {
    "id": "sCyoQfJAJOW1"
   },
   "source": [
    "### Selecting parameters and running the training function"
   ]
  },
  {
   "cell_type": "code",
   "execution_count": null,
   "id": "e69ca3cf-7eb0-4215-9615-2ab98b4a261e",
   "metadata": {
    "id": "QlbJXVQzD9g4"
   },
   "outputs": [],
   "source": [
    "trained_params, error, errors = training(X_train, \n",
    "                                         y_train, \n",
    "                                         lr = 0.01, \n",
    "                                         batch_size = 16, \n",
    "                                         epochs = 100000, \n",
    "                                         hidden_size = 10)"
   ]
  },
  {
   "cell_type": "markdown",
   "id": "e462701b-411f-4b9b-b3de-83f2c541250e",
   "metadata": {
    "id": "60qFxclFORdO"
   },
   "source": [
    "### Displaying the errors from training"
   ]
  },
  {
   "cell_type": "code",
   "execution_count": null,
   "id": "46c0a0a8-c2ea-4297-a226-e0fe40b711f5",
   "metadata": {
    "colab": {
     "base_uri": "https://localhost:8080/",
     "height": 296
    },
    "executionInfo": {
     "elapsed": 196,
     "status": "ok",
     "timestamp": 1621967872324,
     "user": {
      "displayName": "Leif Wilm",
      "photoUrl": "",
      "userId": "04857518338297398200"
     },
     "user_tz": 360
    },
    "id": "VnSy9R4yfSXI",
    "outputId": "a72457be-871b-4a6d-936b-7f00f692e7a1"
   },
   "outputs": [],
   "source": [
    "# Plot the accuracy chart\n",
    "accuracy = (1 - error) * 100\n",
    "\n",
    "plt.plot(errors)\n",
    "plt.xlabel('Training', fontsize=20)  # Adjust font size as needed\n",
    "plt.ylabel('Error', fontsize=20)  # Adjust font size as needed\n",
    "\n",
    "# Set title and tick label sizes if needed\n",
    "plt.title('Training Error Over Epochs', fontsize=12)\n",
    "plt.xticks(fontsize=8)\n",
    "plt.yticks(fontsize=8)\n",
    "\n",
    "plt.show()\n",
    "\n",
    "print(\"Training Accuracy \" + str(round(accuracy, 2)) + \"%\")\n"
   ]
  },
  {
   "cell_type": "markdown",
   "id": "5f4b809d-5646-406a-abcf-9d753b9dda7a",
   "metadata": {
    "id": "PIyXy3hcJqC8"
   },
   "source": [
    "<font color='blue'>Cell 15\n",
    "Running the evaluation function"
   ]
  },
  {
   "cell_type": "markdown",
   "id": "7ccf2137-e92b-4759-9b62-3c22dfb2884b",
   "metadata": {
    "id": "g0P0L-DwOiNo"
   },
   "source": [
    "### Displaying the confusion matrix"
   ]
  },
  {
   "cell_type": "code",
   "execution_count": 15,
   "id": "b6364140-ee44-4ff3-83ca-db0db97fa02c",
   "metadata": {
    "colab": {
     "base_uri": "https://localhost:8080/",
     "height": 374
    },
    "executionInfo": {
     "elapsed": 160,
     "status": "ok",
     "timestamp": 1621967872480,
     "user": {
      "displayName": "Leif Wilm",
      "photoUrl": "",
      "userId": "04857518338297398200"
     },
     "user_tz": 360
    },
    "id": "lvhIzGEkOBDn",
    "outputId": "4df39c6e-92d9-416f-ffff-b3683b9d32ef"
   },
   "outputs": [
    {
     "data": {
      "image/png": "[encoded data removed]",
      "text/plain": [
       "<Figure size 500x500 with 2 Axes>"
      ]
     },
     "metadata": {},
     "output_type": "display_data"
    },
    {
     "name": "stdout",
     "output_type": "stream",
     "text": [
      "\n",
      "Classification Report:\n",
      "               precision    recall  f1-score   support\n",
      "\n",
      "         0.0       0.96      0.77      0.85        30\n",
      "         1.0       0.81      0.97      0.88        30\n",
      "\n",
      "    accuracy                           0.87        60\n",
      "   macro avg       0.88      0.87      0.87        60\n",
      "weighted avg       0.88      0.87      0.87        60\n",
      "\n"
     ]
    }
   ],
   "source": [
    "from sklearn.metrics import confusion_matrix, classification_report, ConfusionMatrixDisplay\n",
    "\n",
    "y_pred = (evaluation(trained_params,X_test) > 0.5).astype(int)\n",
    "\n",
    "cm = confusion_matrix(y_test, y_pred) \n",
    "cmp = ConfusionMatrixDisplay(confusion_matrix= cm)\n",
    "\n",
    "fig, ax = plt.subplots(figsize=(5,5))\n",
    "cmp.plot(ax=ax, cmap = plt.cm.Blues)\n",
    "\n",
    "\n",
    "plt.title(\"Confusion matrix\")\n",
    "plt.show()\n",
    "\n",
    "print(\"\\nClassification Report:\\n\", classification_report(y_test, y_pred))"
   ]
  },
  {
   "cell_type": "markdown",
   "id": "d146be74-a8f1-4783-a494-0d5a5fbd049f",
   "metadata": {
    "id": "zY3-emXNI8Pk"
   },
   "source": [
    "### Function for testing flower dimensions"
   ]
  },
  {
   "cell_type": "code",
   "execution_count": 16,
   "id": "a395b5b5-e974-4a31-8276-00ff9ea7c667",
   "metadata": {},
   "outputs": [
    {
     "data": {
      "text/html": [
       "<div>\n",
       "<style scoped>\n",
       "    .dataframe tbody tr th:only-of-type {\n",
       "        vertical-align: middle;\n",
       "    }\n",
       "\n",
       "    .dataframe tbody tr th {\n",
       "        vertical-align: top;\n",
       "    }\n",
       "\n",
       "    .dataframe thead th {\n",
       "        text-align: right;\n",
       "    }\n",
       "</style>\n",
       "<table border=\"1\" class=\"dataframe\">\n",
       "  <thead>\n",
       "    <tr style=\"text-align: right;\">\n",
       "      <th></th>\n",
       "      <th>dividend</th>\n",
       "      <th>fcfps</th>\n",
       "      <th>earnings_growth</th>\n",
       "      <th>de</th>\n",
       "      <th>mcap</th>\n",
       "      <th>current_ratio</th>\n",
       "    </tr>\n",
       "  </thead>\n",
       "  <tbody>\n",
       "    <tr>\n",
       "      <th>0</th>\n",
       "      <td>0</td>\n",
       "      <td>2.75</td>\n",
       "      <td>-19.25</td>\n",
       "      <td>1.11</td>\n",
       "      <td>545</td>\n",
       "      <td>0.924056</td>\n",
       "    </tr>\n",
       "    <tr>\n",
       "      <th>1</th>\n",
       "      <td>1</td>\n",
       "      <td>4.96</td>\n",
       "      <td>0.83</td>\n",
       "      <td>1.09</td>\n",
       "      <td>630</td>\n",
       "      <td>1.468572</td>\n",
       "    </tr>\n",
       "    <tr>\n",
       "      <th>2</th>\n",
       "      <td>1</td>\n",
       "      <td>2.78</td>\n",
       "      <td>1.09</td>\n",
       "      <td>0.19</td>\n",
       "      <td>562</td>\n",
       "      <td>1.975875</td>\n",
       "    </tr>\n",
       "    <tr>\n",
       "      <th>3</th>\n",
       "      <td>0</td>\n",
       "      <td>0.43</td>\n",
       "      <td>12.97</td>\n",
       "      <td>1.70</td>\n",
       "      <td>388</td>\n",
       "      <td>1.941998</td>\n",
       "    </tr>\n",
       "    <tr>\n",
       "      <th>4</th>\n",
       "      <td>1</td>\n",
       "      <td>2.94</td>\n",
       "      <td>2.44</td>\n",
       "      <td>1.83</td>\n",
       "      <td>684</td>\n",
       "      <td>2.487467</td>\n",
       "    </tr>\n",
       "    <tr>\n",
       "      <th>...</th>\n",
       "      <td>...</td>\n",
       "      <td>...</td>\n",
       "      <td>...</td>\n",
       "      <td>...</td>\n",
       "      <td>...</td>\n",
       "      <td>...</td>\n",
       "    </tr>\n",
       "    <tr>\n",
       "      <th>195</th>\n",
       "      <td>1</td>\n",
       "      <td>1.16</td>\n",
       "      <td>37.26</td>\n",
       "      <td>2.47</td>\n",
       "      <td>404</td>\n",
       "      <td>1.077471</td>\n",
       "    </tr>\n",
       "    <tr>\n",
       "      <th>196</th>\n",
       "      <td>1</td>\n",
       "      <td>3.77</td>\n",
       "      <td>16.33</td>\n",
       "      <td>0.26</td>\n",
       "      <td>760</td>\n",
       "      <td>2.483898</td>\n",
       "    </tr>\n",
       "    <tr>\n",
       "      <th>197</th>\n",
       "      <td>0</td>\n",
       "      <td>1.30</td>\n",
       "      <td>24.69</td>\n",
       "      <td>3.60</td>\n",
       "      <td>236</td>\n",
       "      <td>1.045505</td>\n",
       "    </tr>\n",
       "    <tr>\n",
       "      <th>198</th>\n",
       "      <td>0</td>\n",
       "      <td>1.60</td>\n",
       "      <td>-11.59</td>\n",
       "      <td>3.00</td>\n",
       "      <td>387</td>\n",
       "      <td>0.437697</td>\n",
       "    </tr>\n",
       "    <tr>\n",
       "      <th>199</th>\n",
       "      <td>1</td>\n",
       "      <td>2.22</td>\n",
       "      <td>1.79</td>\n",
       "      <td>0.58</td>\n",
       "      <td>652</td>\n",
       "      <td>2.851633</td>\n",
       "    </tr>\n",
       "  </tbody>\n",
       "</table>\n",
       "<p>200 rows × 6 columns</p>\n",
       "</div>"
      ],
      "text/plain": [
       "     dividend  fcfps  earnings_growth    de  mcap  current_ratio\n",
       "0           0   2.75           -19.25  1.11   545       0.924056\n",
       "1           1   4.96             0.83  1.09   630       1.468572\n",
       "2           1   2.78             1.09  0.19   562       1.975875\n",
       "3           0   0.43            12.97  1.70   388       1.941998\n",
       "4           1   2.94             2.44  1.83   684       2.487467\n",
       "..        ...    ...              ...   ...   ...            ...\n",
       "195         1   1.16            37.26  2.47   404       1.077471\n",
       "196         1   3.77            16.33  0.26   760       2.483898\n",
       "197         0   1.30            24.69  3.60   236       1.045505\n",
       "198         0   1.60           -11.59  3.00   387       0.437697\n",
       "199         1   2.22             1.79  0.58   652       2.851633\n",
       "\n",
       "[200 rows x 6 columns]"
      ]
     },
     "execution_count": 16,
     "metadata": {},
     "output_type": "execute_result"
    }
   ],
   "source": [
    "dividend_data"
   ]
  },
  {
   "cell_type": "code",
   "execution_count": 52,
   "id": "636ec4de-b223-4b54-82bb-9ea23998bd81",
   "metadata": {
    "colab": {
     "base_uri": "https://localhost:8080/"
    },
    "executionInfo": {
     "elapsed": 7518,
     "status": "ok",
     "timestamp": 1621968240659,
     "user": {
      "displayName": "Leif Wilm",
      "photoUrl": "",
      "userId": "04857518338297398200"
     },
     "user_tz": 360
    },
    "id": "fVoeyBbbC9qe",
    "outputId": "9c516807-7cf6-4340-886c-7ed87890e339"
   },
   "outputs": [
    {
     "name": "stdin",
     "output_type": "stream",
     "text": [
      "Enter the fcfps, free cash flow per share: 10\n",
      "Enter the earnings_growth: 20\n",
      "Enter the de, the detb to equity ratio: 0.1\n",
      "Enter the mcap, the market capitalization: 2000\n",
      "Enter the current_ratio, liquidity ratio: 100\n"
     ]
    },
    {
     "name": "stdout",
     "output_type": "stream",
     "text": [
      "The stock is most likely to: PAY dividends\n"
     ]
    }
   ],
   "source": [
    "def input_test_seq():\n",
    "    \n",
    "    fcfps = float(input('Enter the fcfps, free cash flow per share:'))\n",
    "    while True:\n",
    "        if float(fcfps) < 0:\n",
    "            print('Inalid Entry. Enter fcfps > 0 \\n')\n",
    "            sepal_length = float(input('Enter the fcfps:'))\n",
    "            continue\n",
    "        else:\n",
    "            break\n",
    "\n",
    "    earnings_growth\t = float(input('Enter the earnings_growth:'))\n",
    "\n",
    "\n",
    "    de = float(input('Enter the de, the detb to equity ratio:'))\n",
    "    \n",
    "    while True:\n",
    "        if float(de) < 0 :\n",
    "            print('Invalid Entry. Please enter a positive value.')\n",
    "            de = float(input('Enter the de:'))\n",
    "            continue\n",
    "        else:\n",
    "            break\n",
    "\n",
    "    mcap = float(input('Enter the mcap, the market capitalization:'))\n",
    "    while True:\n",
    "        if float(mcap) < 0 :\n",
    "            print('Invalid entry. Please enter a positive value.')\n",
    "            mcap = float(input('Enter the mcap:'))\n",
    "            continue\n",
    "        else:\n",
    "            break\n",
    "\n",
    "    current_ratio = float(input('Enter the current_ratio, liquidity ratio:'))\n",
    "    while True:\n",
    "        if float(current_ratio) < 0 :\n",
    "            print('Invalid entry. Please enter a positive value.')\n",
    "            current_ratio = float(input('Enter the current_ratio:'))\n",
    "            continue\n",
    "        else:\n",
    "            break\n",
    "            \n",
    "\n",
    "    predict_features = [fcfps, earnings_growth, de, mcap, current_ratio]\n",
    "    predict_features = normalize(predict_features)\n",
    "    result_category = evaluation(trained_params,predict_features)\n",
    "    result_category = np.round(result_category)\n",
    "\n",
    "    if result_category == 0:\n",
    "        value_prediction = \"NOT PAY dividends\"\n",
    "    elif result_category == 1:\n",
    "        value_prediction = \"PAY dividends\"\n",
    "    return value_prediction\n",
    "\n",
    "dividend_prediction = input_test_seq()\n",
    "print(\"The stock is most likely to:\", dividend_prediction)"
   ]
  }
 ],
 "metadata": {
  "kernelspec": {
   "display_name": "Python 3 (ipykernel)",
   "language": "python",
   "name": "python3"
  },
  "language_info": {
   "codemirror_mode": {
    "name": "ipython",
    "version": 3
   },
   "file_extension": ".py",
   "mimetype": "text/x-python",
   "name": "python",
   "nbconvert_exporter": "python",
   "pygments_lexer": "ipython3",
   "version": "3.10.12"
  }
 },
 "nbformat": 4,
 "nbformat_minor": 5
}
